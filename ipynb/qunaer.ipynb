{
 "cells": [
  {
   "cell_type": "code",
   "execution_count": 2,
   "id": "298560a1",
   "metadata": {},
   "outputs": [],
   "source": [
    "import numpy as np\n",
    "import pandas as pd"
   ]
  },
  {
   "cell_type": "code",
   "execution_count": 108,
   "id": "def90bb1",
   "metadata": {},
   "outputs": [],
   "source": [
    "df = pd.read_csv(\"DC.csv\",encoding='gbk',header=0,dtype={\"得分\":str},na_values=[\"小牛\",\"客\"])"
   ]
  },
  {
   "cell_type": "code",
   "execution_count": null,
   "id": "c5fa1fa8",
   "metadata": {},
   "outputs": [],
   "source": []
  },
  {
   "cell_type": "code",
   "execution_count": 109,
   "id": "c82902a8",
   "metadata": {},
   "outputs": [
    {
     "data": {
      "text/html": [
       "<div>\n",
       "<style scoped>\n",
       "    .dataframe tbody tr th:only-of-type {\n",
       "        vertical-align: middle;\n",
       "    }\n",
       "\n",
       "    .dataframe tbody tr th {\n",
       "        vertical-align: top;\n",
       "    }\n",
       "\n",
       "    .dataframe thead th {\n",
       "        text-align: right;\n",
       "    }\n",
       "</style>\n",
       "<table border=\"1\" class=\"dataframe\">\n",
       "  <thead>\n",
       "    <tr style=\"text-align: right;\">\n",
       "      <th></th>\n",
       "      <th>对手</th>\n",
       "      <th>胜负</th>\n",
       "      <th>主客场</th>\n",
       "      <th>命中</th>\n",
       "      <th>投篮数</th>\n",
       "      <th>篮板</th>\n",
       "      <th>助攻</th>\n",
       "      <th>得分</th>\n",
       "    </tr>\n",
       "  </thead>\n",
       "  <tbody>\n",
       "    <tr>\n",
       "      <th>0</th>\n",
       "      <td>勇士</td>\n",
       "      <td>胜</td>\n",
       "      <td>NaN</td>\n",
       "      <td>10.0</td>\n",
       "      <td>23.0</td>\n",
       "      <td>6.0</td>\n",
       "      <td>11.0</td>\n",
       "      <td>27</td>\n",
       "    </tr>\n",
       "    <tr>\n",
       "      <th>1</th>\n",
       "      <td>国王</td>\n",
       "      <td>胜</td>\n",
       "      <td>NaN</td>\n",
       "      <td>8.0</td>\n",
       "      <td>NaN</td>\n",
       "      <td>3.0</td>\n",
       "      <td>9.0</td>\n",
       "      <td>27</td>\n",
       "    </tr>\n",
       "    <tr>\n",
       "      <th>2</th>\n",
       "      <td>NaN</td>\n",
       "      <td>胜</td>\n",
       "      <td>主</td>\n",
       "      <td>NaN</td>\n",
       "      <td>55.0</td>\n",
       "      <td>3.0</td>\n",
       "      <td>NaN</td>\n",
       "      <td>29</td>\n",
       "    </tr>\n",
       "    <tr>\n",
       "      <th>3</th>\n",
       "      <td>灰熊</td>\n",
       "      <td>负</td>\n",
       "      <td>主</td>\n",
       "      <td>8.0</td>\n",
       "      <td>20.0</td>\n",
       "      <td>5.0</td>\n",
       "      <td>8.0</td>\n",
       "      <td>22</td>\n",
       "    </tr>\n",
       "    <tr>\n",
       "      <th>4</th>\n",
       "      <td>76人</td>\n",
       "      <td>胜</td>\n",
       "      <td>NaN</td>\n",
       "      <td>10.0</td>\n",
       "      <td>20.0</td>\n",
       "      <td>3.0</td>\n",
       "      <td>13.0</td>\n",
       "      <td>27</td>\n",
       "    </tr>\n",
       "    <tr>\n",
       "      <th>5</th>\n",
       "      <td>黄蜂</td>\n",
       "      <td>胜</td>\n",
       "      <td>NaN</td>\n",
       "      <td>8.0</td>\n",
       "      <td>18.0</td>\n",
       "      <td>NaN</td>\n",
       "      <td>11.0</td>\n",
       "      <td>27</td>\n",
       "    </tr>\n",
       "  </tbody>\n",
       "</table>\n",
       "</div>"
      ],
      "text/plain": [
       "    对手 胜负  主客场    命中   投篮数   篮板    助攻  得分\n",
       "0   勇士  胜  NaN  10.0  23.0  6.0  11.0  27\n",
       "1   国王  胜  NaN   8.0   NaN  3.0   9.0  27\n",
       "2  NaN  胜    主   NaN  55.0  3.0   NaN  29\n",
       "3   灰熊  负    主   8.0  20.0  5.0   8.0  22\n",
       "4  76人  胜  NaN  10.0  20.0  3.0  13.0  27\n",
       "5   黄蜂  胜  NaN   8.0  18.0  NaN  11.0  27"
      ]
     },
     "execution_count": 109,
     "metadata": {},
     "output_type": "execute_result"
    }
   ],
   "source": [
    "df.head(6)"
   ]
  },
  {
   "cell_type": "code",
   "execution_count": 55,
   "id": "2d9c17f7",
   "metadata": {},
   "outputs": [
    {
     "data": {
      "text/plain": [
       "Index(['景区名称', '地区', '热度', '地址', '价格', '月销量'], dtype='object')"
      ]
     },
     "execution_count": 55,
     "metadata": {},
     "output_type": "execute_result"
    }
   ],
   "source": [
    "df.columns"
   ]
  },
  {
   "cell_type": "code",
   "execution_count": 57,
   "id": "4a9b637f",
   "metadata": {},
   "outputs": [
    {
     "data": {
      "text/plain": [
       "景区名称     object\n",
       "地区       object\n",
       "热度       object\n",
       "地址       object\n",
       "价格      float64\n",
       "月销量       int64\n",
       "dtype: object"
      ]
     },
     "execution_count": 57,
     "metadata": {},
     "output_type": "execute_result"
    }
   ],
   "source": [
    "df.dtypes"
   ]
  },
  {
   "cell_type": "code",
   "execution_count": 59,
   "id": "99d906b7",
   "metadata": {},
   "outputs": [
    {
     "data": {
      "text/plain": [
       "array([141.5, 100. ,  58. , 215. ,  25. , 118. , 168. ,  89. ,  99. ,\n",
       "        80. ,  36. ,  35. ,  50. ,   3. , 109. ,  90. ,  65. ,  30. ,\n",
       "       158. , 200. ,  98. , 350. , 268. , 318. , 130. , 298. ,  70. ,\n",
       "       178. ,   2. ,  66. ,   9. , 518. ,  51. , 238. ,  28. ,  69. ])"
      ]
     },
     "execution_count": 59,
     "metadata": {},
     "output_type": "execute_result"
    }
   ],
   "source": [
    "df['价格'].unique()"
   ]
  },
  {
   "cell_type": "code",
   "execution_count": 22,
   "id": "7671f6ab",
   "metadata": {},
   "outputs": [
    {
     "data": {
      "text/plain": [
       "Index(['景区名称', '星级', '地区', '热度', '地址', '价格', '月销量'], dtype='object')"
      ]
     },
     "execution_count": 22,
     "metadata": {},
     "output_type": "execute_result"
    }
   ],
   "source": [
    "# 获取 title\n",
    "df.columns"
   ]
  },
  {
   "cell_type": "code",
   "execution_count": 16,
   "id": "72d5cbb9",
   "metadata": {},
   "outputs": [
    {
     "data": {
      "text/plain": [
       "array([ 0,  1,  2,  3,  4,  5,  6,  7,  8,  9, 10, 11, 12, 13, 14, 15, 16,\n",
       "       17, 18, 19, 20, 21, 22, 23, 24, 25, 26, 27, 28, 29, 30, 31, 32, 33,\n",
       "       34, 35, 36, 37, 38, 39, 40, 41, 42, 43, 44, 45, 46, 47, 48, 49, 50,\n",
       "       51, 52, 53, 54, 55, 56, 57, 58, 59], dtype=int64)"
      ]
     },
     "execution_count": 16,
     "metadata": {},
     "output_type": "execute_result"
    }
   ],
   "source": [
    "# 获取第一列（索引值）\n",
    "df.index.values"
   ]
  },
  {
   "cell_type": "code",
   "execution_count": 18,
   "id": "b920a944",
   "metadata": {},
   "outputs": [],
   "source": [
    "# 将某一行记录转为字典 to_dict()\n",
    "df_dict = df.loc[1,df.columns].to_dict()"
   ]
  },
  {
   "cell_type": "code",
   "execution_count": 19,
   "id": "6ebba294",
   "metadata": {},
   "outputs": [
    {
     "data": {
      "text/plain": [
       "{'景区名称': '大连圣亚海洋世界',\n",
       " '星级': '4A景区',\n",
       " '地区': '辽宁·大连·沙河口区',\n",
       " '热度': '热度 0.82',\n",
       " '地址': '地址：大连市沙河口区中山路608-6-8号（星海广场西500米）',\n",
       " '价格': 100.0,\n",
       " '月销量': 666}"
      ]
     },
     "execution_count": 19,
     "metadata": {},
     "output_type": "execute_result"
    }
   ],
   "source": [
    "df_dict"
   ]
  },
  {
   "cell_type": "code",
   "execution_count": 20,
   "id": "a3061afa",
   "metadata": {},
   "outputs": [
    {
     "data": {
      "text/plain": [
       "景区名称                            大连圣亚海洋世界\n",
       "星级                                  4A景区\n",
       "地区                            辽宁·大连·沙河口区\n",
       "热度                               热度 0.82\n",
       "地址      地址：大连市沙河口区中山路608-6-8号（星海广场西500米）\n",
       "价格                                 100.0\n",
       "月销量                                  666\n",
       "Name: 1, dtype: object"
      ]
     },
     "execution_count": 20,
     "metadata": {},
     "output_type": "execute_result"
    }
   ],
   "source": [
    "df.loc[1,df.columns]"
   ]
  },
  {
   "cell_type": "code",
   "execution_count": null,
   "id": "94bb6c34",
   "metadata": {},
   "outputs": [],
   "source": [
    "# 将title和每行记录以字典形式封装\n",
    "# for i in df.index.values:\n",
    "#     df_dict = df.loc[1,df.columns].to_dict()\n",
    "#     print(df_dict)"
   ]
  }
 ],
 "metadata": {
  "kernelspec": {
   "display_name": "Python 3",
   "language": "python",
   "name": "python3"
  },
  "language_info": {
   "codemirror_mode": {
    "name": "ipython",
    "version": 3
   },
   "file_extension": ".py",
   "mimetype": "text/x-python",
   "name": "python",
   "nbconvert_exporter": "python",
   "pygments_lexer": "ipython3",
   "version": "3.9.1"
  }
 },
 "nbformat": 4,
 "nbformat_minor": 5
}
