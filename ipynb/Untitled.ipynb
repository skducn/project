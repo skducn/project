{
 "cells": [
  {
   "cell_type": "code",
   "execution_count": 1,
   "id": "0fe4c50d",
   "metadata": {},
   "outputs": [],
   "source": [
    "import numpy as np"
   ]
  },
  {
   "cell_type": "code",
   "execution_count": 7,
   "id": "d884f930",
   "metadata": {},
   "outputs": [],
   "source": [
    "n = np.array([[5, 10, 15],\n",
    "              [20, 125, 30],\n",
    "              [35, 40, 45]])"
   ]
  },
  {
   "cell_type": "code",
   "execution_count": 8,
   "id": "d0952962",
   "metadata": {},
   "outputs": [
    {
     "data": {
      "text/plain": [
       "5"
      ]
     },
     "execution_count": 8,
     "metadata": {},
     "output_type": "execute_result"
    }
   ],
   "source": [
    "n.min()"
   ]
  },
  {
   "cell_type": "code",
   "execution_count": 9,
   "id": "e714a842",
   "metadata": {},
   "outputs": [
    {
     "data": {
      "text/plain": [
       "125"
      ]
     },
     "execution_count": 9,
     "metadata": {},
     "output_type": "execute_result"
    }
   ],
   "source": [
    "n.max()"
   ]
  },
  {
   "cell_type": "code",
   "execution_count": 72,
   "id": "9a7674dc",
   "metadata": {},
   "outputs": [
    {
     "data": {
      "text/plain": [
       "array([ 35, 125,  45])"
      ]
     },
     "execution_count": 72,
     "metadata": {},
     "output_type": "execute_result"
    }
   ],
   "source": [
    "# 某一行中最大值组成数组\n",
    "n.max(axis=0)"
   ]
  },
  {
   "cell_type": "code",
   "execution_count": 12,
   "id": "4d9eea68",
   "metadata": {},
   "outputs": [
    {
     "data": {
      "text/plain": [
       "array([ 15, 125,  45])"
      ]
     },
     "execution_count": 12,
     "metadata": {},
     "output_type": "execute_result"
    }
   ],
   "source": [
    "# 某一列中最大值组成数组\n",
    "n.max(1)"
   ]
  },
  {
   "cell_type": "code",
   "execution_count": 14,
   "id": "d5276e50",
   "metadata": {},
   "outputs": [
    {
     "data": {
      "text/plain": [
       "36.11"
      ]
     },
     "execution_count": 14,
     "metadata": {},
     "output_type": "execute_result"
    }
   ],
   "source": [
    "n.mean().round(2)"
   ]
  },
  {
   "cell_type": "code",
   "execution_count": 22,
   "id": "0d5eaeb5",
   "metadata": {},
   "outputs": [
    {
     "data": {
      "text/plain": [
       "array([ 60, 175,  90])"
      ]
     },
     "execution_count": 22,
     "metadata": {},
     "output_type": "execute_result"
    }
   ],
   "source": [
    "# 列求和组成数组  \n",
    "n.sum(axis=0)"
   ]
  },
  {
   "cell_type": "code",
   "execution_count": 17,
   "id": "88856959",
   "metadata": {},
   "outputs": [
    {
     "data": {
      "text/plain": [
       "array([ 30, 175, 120])"
      ]
     },
     "execution_count": 17,
     "metadata": {},
     "output_type": "execute_result"
    }
   ],
   "source": [
    "# 行求和组成数组\n",
    "n.sum(1)"
   ]
  },
  {
   "cell_type": "code",
   "execution_count": 18,
   "id": "86c5e934",
   "metadata": {},
   "outputs": [
    {
     "data": {
      "text/plain": [
       "325"
      ]
     },
     "execution_count": 18,
     "metadata": {},
     "output_type": "execute_result"
    }
   ],
   "source": [
    "n.sum()"
   ]
  },
  {
   "cell_type": "code",
   "execution_count": 19,
   "id": "808879ca",
   "metadata": {},
   "outputs": [
    {
     "data": {
      "text/plain": [
       "array([20.        , 58.33333333, 30.        ])"
      ]
     },
     "execution_count": 19,
     "metadata": {},
     "output_type": "execute_result"
    }
   ],
   "source": [
    "# 列求平均值组成数组\n",
    "n.mean(0)"
   ]
  },
  {
   "cell_type": "code",
   "execution_count": 20,
   "id": "15fe7934",
   "metadata": {},
   "outputs": [
    {
     "data": {
      "text/plain": [
       "array([10.        , 58.33333333, 40.        ])"
      ]
     },
     "execution_count": 20,
     "metadata": {},
     "output_type": "execute_result"
    }
   ],
   "source": [
    "# 行求平均值组成数组\n",
    "n.mean(1)"
   ]
  },
  {
   "cell_type": "code",
   "execution_count": 31,
   "id": "0e5b9215",
   "metadata": {},
   "outputs": [],
   "source": [
    "n1 = np.arange(5)"
   ]
  },
  {
   "cell_type": "code",
   "execution_count": 32,
   "id": "61222f80",
   "metadata": {},
   "outputs": [
    {
     "data": {
      "text/plain": [
       "array([0, 1, 2, 3, 4])"
      ]
     },
     "execution_count": 32,
     "metadata": {},
     "output_type": "execute_result"
    }
   ],
   "source": [
    "n1"
   ]
  },
  {
   "cell_type": "code",
   "execution_count": 33,
   "id": "45f1d580",
   "metadata": {},
   "outputs": [
    {
     "data": {
      "text/plain": [
       "array([ 1.        ,  2.71828183,  7.3890561 , 20.08553692, 54.59815003])"
      ]
     },
     "execution_count": 33,
     "metadata": {},
     "output_type": "execute_result"
    }
   ],
   "source": [
    "# np. exp(x)   e的x幂次方\n",
    "np.exp(n1)"
   ]
  },
  {
   "cell_type": "code",
   "execution_count": 34,
   "id": "0a583e8f",
   "metadata": {},
   "outputs": [
    {
     "data": {
      "text/plain": [
       "array([0.        , 1.        , 1.41421356, 1.73205081, 2.        ])"
      ]
     },
     "execution_count": 34,
     "metadata": {},
     "output_type": "execute_result"
    }
   ],
   "source": [
    "# 开根号\n",
    "np.sqrt(n1)"
   ]
  },
  {
   "cell_type": "code",
   "execution_count": 38,
   "id": "8edbab72",
   "metadata": {},
   "outputs": [],
   "source": [
    "# np.floor() 向下取整\n",
    "a = np.array([-1.7, -1.5, -0.2, 0.2, 1.5, 1.7, 2.0])"
   ]
  },
  {
   "cell_type": "code",
   "execution_count": 39,
   "id": "848d765b",
   "metadata": {},
   "outputs": [
    {
     "data": {
      "text/plain": [
       "array([-2., -2., -1.,  0.,  1.,  1.,  2.])"
      ]
     },
     "execution_count": 39,
     "metadata": {},
     "output_type": "execute_result"
    }
   ],
   "source": [
    "np.floor(a)"
   ]
  },
  {
   "cell_type": "code",
   "execution_count": 74,
   "id": "470aa4ec",
   "metadata": {},
   "outputs": [
    {
     "data": {
      "text/plain": [
       "array([[4, 3, 5],\n",
       "       [1, 6, 1]])"
      ]
     },
     "execution_count": 74,
     "metadata": {},
     "output_type": "execute_result"
    }
   ],
   "source": [
    "# 排序\n",
    "a = np.array([[4, 3, 5], [1, 6, 1]])\n",
    "a"
   ]
  },
  {
   "cell_type": "code",
   "execution_count": 75,
   "id": "29641e62",
   "metadata": {},
   "outputs": [
    {
     "data": {
      "text/plain": [
       "array([[3, 4, 5],\n",
       "       [1, 1, 6]])"
      ]
     },
     "execution_count": 75,
     "metadata": {},
     "output_type": "execute_result"
    }
   ],
   "source": [
    "# 行排序\n",
    "np.sort(a)  # 等同于 np.sort(a,1)   或 np.sort(a,axis=1)"
   ]
  },
  {
   "cell_type": "code",
   "execution_count": 76,
   "id": "75da307b",
   "metadata": {},
   "outputs": [
    {
     "data": {
      "text/plain": [
       "array([[3, 4, 5],\n",
       "       [1, 1, 6]])"
      ]
     },
     "execution_count": 76,
     "metadata": {},
     "output_type": "execute_result"
    }
   ],
   "source": [
    "# 列排序\n",
    "np.sort(a)"
   ]
  },
  {
   "cell_type": "code",
   "execution_count": 63,
   "id": "eacf25c5",
   "metadata": {},
   "outputs": [
    {
     "data": {
      "text/plain": [
       "array([2, 1, 3, 0], dtype=int64)"
      ]
     },
     "execution_count": 63,
     "metadata": {},
     "output_type": "execute_result"
    }
   ],
   "source": [
    "# np.argsort() 返回元素位置的排序索引\n",
    "x = np.array([44, 23, 10, 24])\n",
    "arg = np.argsort(x)\n",
    "arg"
   ]
  },
  {
   "cell_type": "code",
   "execution_count": 64,
   "id": "240a846b",
   "metadata": {},
   "outputs": [
    {
     "data": {
      "text/plain": [
       "array([10, 23, 24, 44])"
      ]
     },
     "execution_count": 64,
     "metadata": {},
     "output_type": "execute_result"
    }
   ],
   "source": [
    "x[arg]"
   ]
  },
  {
   "cell_type": "code",
   "execution_count": 65,
   "id": "99157654",
   "metadata": {},
   "outputs": [
    {
     "data": {
      "text/plain": [
       "array([3, 1, 0, 2], dtype=int64)"
      ]
     },
     "execution_count": 65,
     "metadata": {},
     "output_type": "execute_result"
    }
   ],
   "source": [
    "np.argsort(arg)  # 对 array([2, 1, 3, 0], dtype=int64) 进行再索引排序"
   ]
  },
  {
   "cell_type": "code",
   "execution_count": 66,
   "id": "a47e79e2",
   "metadata": {},
   "outputs": [
    {
     "data": {
      "text/plain": [
       "0"
      ]
     },
     "execution_count": 66,
     "metadata": {},
     "output_type": "execute_result"
    }
   ],
   "source": [
    "# 返回数组[44, 23, 10, 24]中最大值的索引号\n",
    "arg[-1]"
   ]
  },
  {
   "cell_type": "code",
   "execution_count": 68,
   "id": "87e02fa8",
   "metadata": {},
   "outputs": [
    {
     "data": {
      "text/plain": [
       "2"
      ]
     },
     "execution_count": 68,
     "metadata": {},
     "output_type": "execute_result"
    }
   ],
   "source": [
    "# 返回数组中最小值的索引号\n",
    "arg[0]"
   ]
  },
  {
   "cell_type": "code",
   "execution_count": 79,
   "id": "4c63f003",
   "metadata": {},
   "outputs": [
    {
     "data": {
      "text/plain": [
       "2"
      ]
     },
     "execution_count": 79,
     "metadata": {},
     "output_type": "execute_result"
    }
   ],
   "source": [
    "# 返回数组中最大元素的索引\n",
    "a = np.array([44, 23, 3310, 124])\n",
    "a.argmax()"
   ]
  },
  {
   "cell_type": "code",
   "execution_count": 80,
   "id": "f14b9cf1",
   "metadata": {},
   "outputs": [
    {
     "data": {
      "text/plain": [
       "1"
      ]
     },
     "execution_count": 80,
     "metadata": {},
     "output_type": "execute_result"
    }
   ],
   "source": [
    "a.argmin()"
   ]
  },
  {
   "cell_type": "code",
   "execution_count": 85,
   "id": "e99a2b72",
   "metadata": {},
   "outputs": [],
   "source": [
    "n1 = np.array([[11, 1],\n",
    "               [0, 5]])\n",
    "n2 = np.array([[2, 0],\n",
    "               [3, 4]])"
   ]
  },
  {
   "cell_type": "code",
   "execution_count": 86,
   "id": "d876367f",
   "metadata": {},
   "outputs": [
    {
     "data": {
      "text/plain": [
       "array([[11,  1],\n",
       "       [ 0,  5]])"
      ]
     },
     "execution_count": 86,
     "metadata": {},
     "output_type": "execute_result"
    }
   ],
   "source": [
    "n1"
   ]
  },
  {
   "cell_type": "code",
   "execution_count": 87,
   "id": "24824158",
   "metadata": {},
   "outputs": [
    {
     "data": {
      "text/plain": [
       "array([[2, 0],\n",
       "       [3, 4]])"
      ]
     },
     "execution_count": 87,
     "metadata": {},
     "output_type": "execute_result"
    }
   ],
   "source": [
    "n2"
   ]
  },
  {
   "cell_type": "code",
   "execution_count": 88,
   "id": "891eb107",
   "metadata": {},
   "outputs": [
    {
     "data": {
      "text/plain": [
       "array([[22,  0],\n",
       "       [ 0, 20]])"
      ]
     },
     "execution_count": 88,
     "metadata": {},
     "output_type": "execute_result"
    }
   ],
   "source": [
    "# [11*2,1*0],[0*3,5*4]\n",
    "n1*n2"
   ]
  },
  {
   "cell_type": "code",
   "execution_count": 89,
   "id": "70b74f97",
   "metadata": {},
   "outputs": [
    {
     "data": {
      "text/plain": [
       "array([[22,  0],\n",
       "       [ 0, 20]])"
      ]
     },
     "execution_count": 89,
     "metadata": {},
     "output_type": "execute_result"
    }
   ],
   "source": [
    "np.multiply(n1,n2)"
   ]
  },
  {
   "cell_type": "code",
   "execution_count": 90,
   "id": "d612604b",
   "metadata": {},
   "outputs": [
    {
     "data": {
      "text/plain": [
       "6"
      ]
     },
     "execution_count": 90,
     "metadata": {},
     "output_type": "execute_result"
    }
   ],
   "source": [
    "np.multiply(2, 3)"
   ]
  },
  {
   "cell_type": "code",
   "execution_count": 91,
   "id": "e231d5a9",
   "metadata": {},
   "outputs": [
    {
     "data": {
      "text/plain": [
       "array([[33,  3],\n",
       "       [ 0, 15]])"
      ]
     },
     "execution_count": 91,
     "metadata": {},
     "output_type": "execute_result"
    }
   ],
   "source": [
    "np.multiply(n1, 3)"
   ]
  },
  {
   "cell_type": "code",
   "execution_count": 92,
   "id": "423d3ff2",
   "metadata": {},
   "outputs": [],
   "source": [
    "A = np.array( [[1,2],\n",
    "               [3,4]] )\n",
    "B = np.array( [[5,6],\n",
    "               [7,8]] )"
   ]
  },
  {
   "cell_type": "code",
   "execution_count": 93,
   "id": "32069722",
   "metadata": {},
   "outputs": [
    {
     "data": {
      "text/plain": [
       "array([[19, 22],\n",
       "       [43, 50]])"
      ]
     },
     "execution_count": 93,
     "metadata": {},
     "output_type": "execute_result"
    }
   ],
   "source": [
    "A.dot(B)"
   ]
  },
  {
   "cell_type": "code",
   "execution_count": 95,
   "id": "805d4c71",
   "metadata": {},
   "outputs": [
    {
     "data": {
      "text/plain": [
       "array([[19, 22],\n",
       "       [43, 50]])"
      ]
     },
     "execution_count": 95,
     "metadata": {},
     "output_type": "execute_result"
    }
   ],
   "source": [
    "np.dot(A,B)"
   ]
  },
  {
   "cell_type": "code",
   "execution_count": 141,
   "id": "11665ebf",
   "metadata": {},
   "outputs": [],
   "source": [
    "a= np.ones((3,7))"
   ]
  },
  {
   "cell_type": "code",
   "execution_count": 142,
   "id": "67d8b0ef",
   "metadata": {},
   "outputs": [
    {
     "data": {
      "text/plain": [
       "array([[1., 1., 1., 1., 1., 1., 1.],\n",
       "       [1., 1., 1., 1., 1., 1., 1.],\n",
       "       [1., 1., 1., 1., 1., 1., 1.]])"
      ]
     },
     "execution_count": 142,
     "metadata": {},
     "output_type": "execute_result"
    }
   ],
   "source": [
    "a"
   ]
  },
  {
   "cell_type": "code",
   "execution_count": 143,
   "id": "5bc6473d",
   "metadata": {},
   "outputs": [],
   "source": [
    "b= np.ones((7,3))*4"
   ]
  },
  {
   "cell_type": "code",
   "execution_count": 144,
   "id": "2a0068d0",
   "metadata": {},
   "outputs": [
    {
     "data": {
      "text/plain": [
       "array([[4., 4., 4.],\n",
       "       [4., 4., 4.],\n",
       "       [4., 4., 4.],\n",
       "       [4., 4., 4.],\n",
       "       [4., 4., 4.],\n",
       "       [4., 4., 4.],\n",
       "       [4., 4., 4.]])"
      ]
     },
     "execution_count": 144,
     "metadata": {},
     "output_type": "execute_result"
    }
   ],
   "source": [
    "b"
   ]
  },
  {
   "cell_type": "code",
   "execution_count": 145,
   "id": "90551e9d",
   "metadata": {},
   "outputs": [
    {
     "data": {
      "text/plain": [
       "array([[28., 28., 28.],\n",
       "       [28., 28., 28.],\n",
       "       [28., 28., 28.]])"
      ]
     },
     "execution_count": 145,
     "metadata": {},
     "output_type": "execute_result"
    }
   ],
   "source": [
    "a.dot(b)"
   ]
  },
  {
   "cell_type": "code",
   "execution_count": 122,
   "id": "93e914ee",
   "metadata": {},
   "outputs": [],
   "source": [
    "A=[1,2,3,4,5]\n",
    "B=[5,4,3,2,1]"
   ]
  },
  {
   "cell_type": "code",
   "execution_count": 124,
   "id": "f8bef38b",
   "metadata": {},
   "outputs": [
    {
     "data": {
      "text/plain": [
       "35"
      ]
     },
     "execution_count": 124,
     "metadata": {},
     "output_type": "execute_result"
    }
   ],
   "source": [
    "np.dot(A,B)"
   ]
  },
  {
   "cell_type": "code",
   "execution_count": 125,
   "id": "99be0224",
   "metadata": {},
   "outputs": [],
   "source": [
    "A=np.array([1,2,3,4]).reshape(4,1)\n",
    "B=np.array([1,2,3,4,5,6,7,8]).reshape(2,4)"
   ]
  },
  {
   "cell_type": "code",
   "execution_count": 129,
   "id": "3ee1bf2f",
   "metadata": {},
   "outputs": [
    {
     "data": {
      "text/plain": [
       "array([[1],\n",
       "       [2],\n",
       "       [3],\n",
       "       [4]])"
      ]
     },
     "execution_count": 129,
     "metadata": {},
     "output_type": "execute_result"
    }
   ],
   "source": [
    "A"
   ]
  },
  {
   "cell_type": "code",
   "execution_count": 130,
   "id": "7e59b357",
   "metadata": {},
   "outputs": [
    {
     "data": {
      "text/plain": [
       "array([[1, 2, 3, 4],\n",
       "       [5, 6, 7, 8]])"
      ]
     },
     "execution_count": 130,
     "metadata": {},
     "output_type": "execute_result"
    }
   ],
   "source": [
    "B"
   ]
  },
  {
   "cell_type": "code",
   "execution_count": 131,
   "id": "ab2f838a",
   "metadata": {},
   "outputs": [
    {
     "ename": "ValueError",
     "evalue": "shapes (4,1) and (2,4) not aligned: 1 (dim 1) != 2 (dim 0)",
     "output_type": "error",
     "traceback": [
      "\u001b[1;31m---------------------------------------------------------------------------\u001b[0m",
      "\u001b[1;31mValueError\u001b[0m                                Traceback (most recent call last)",
      "\u001b[1;32m<ipython-input-131-189f80e2c351>\u001b[0m in \u001b[0;36m<module>\u001b[1;34m\u001b[0m\n\u001b[1;32m----> 1\u001b[1;33m \u001b[0mnp\u001b[0m\u001b[1;33m.\u001b[0m\u001b[0mdot\u001b[0m\u001b[1;33m(\u001b[0m\u001b[0mA\u001b[0m\u001b[1;33m,\u001b[0m\u001b[0mB\u001b[0m\u001b[1;33m)\u001b[0m\u001b[1;33m\u001b[0m\u001b[1;33m\u001b[0m\u001b[0m\n\u001b[0m",
      "\u001b[1;32m<__array_function__ internals>\u001b[0m in \u001b[0;36mdot\u001b[1;34m(*args, **kwargs)\u001b[0m\n",
      "\u001b[1;31mValueError\u001b[0m: shapes (4,1) and (2,4) not aligned: 1 (dim 1) != 2 (dim 0)"
     ]
    }
   ],
   "source": [
    "# 报错了，A·B中, 因为A的x方向为1个元素，而B的y方向为2个元素。无法进行点积运算。\n",
    "np.dot(A,B)"
   ]
  },
  {
   "cell_type": "code",
   "execution_count": 132,
   "id": "2ba0ce77",
   "metadata": {},
   "outputs": [
    {
     "data": {
      "text/plain": [
       "array([[30],\n",
       "       [70]])"
      ]
     },
     "execution_count": 132,
     "metadata": {},
     "output_type": "execute_result"
    }
   ],
   "source": [
    "# B·A中，B的x方向有4个元素，A的y方向有四个元素。\n",
    "# 最终的结果，C在y方向上跟随B，有两个元素；在x方向上跟随A，有一个元素。C：(2,1)。\n",
    "np.dot(B,A)"
   ]
  },
  {
   "cell_type": "code",
   "execution_count": 146,
   "id": "e875d80f",
   "metadata": {},
   "outputs": [
    {
     "name": "stdout",
     "output_type": "stream",
     "text": [
      "A2=W·A1:\n",
      " [[ 5]\n",
      " [11]\n",
      " [17]]\n"
     ]
    }
   ],
   "source": [
    "A1=np.array([1,2]).reshape(2,1)\n",
    "W=np.array([1,2,3,4,5,6]).reshape(3,2)\n",
    "print('A2=W·A1:\\n',np.dot(W,A1))"
   ]
  },
  {
   "cell_type": "code",
   "execution_count": 147,
   "id": "a7a838c0",
   "metadata": {},
   "outputs": [
    {
     "data": {
      "text/plain": [
       "array([[1],\n",
       "       [2]])"
      ]
     },
     "execution_count": 147,
     "metadata": {},
     "output_type": "execute_result"
    }
   ],
   "source": [
    "A1\n"
   ]
  },
  {
   "cell_type": "code",
   "execution_count": 148,
   "id": "e1ab7663",
   "metadata": {},
   "outputs": [
    {
     "data": {
      "text/plain": [
       "array([[1, 2],\n",
       "       [3, 4],\n",
       "       [5, 6]])"
      ]
     },
     "execution_count": 148,
     "metadata": {},
     "output_type": "execute_result"
    }
   ],
   "source": [
    "W"
   ]
  },
  {
   "cell_type": "code",
   "execution_count": 153,
   "id": "4491e5a1",
   "metadata": {},
   "outputs": [
    {
     "data": {
      "text/plain": [
       "array([[ 5],\n",
       "       [11],\n",
       "       [17]])"
      ]
     },
     "execution_count": 153,
     "metadata": {},
     "output_type": "execute_result"
    }
   ],
   "source": [
    "np.matmul(W,A1)"
   ]
  },
  {
   "cell_type": "code",
   "execution_count": 154,
   "id": "4b752c27",
   "metadata": {},
   "outputs": [],
   "source": [
    "n1 = np.array([[10, 11],\n",
    "               [12, 13]])\n",
    "n2 = np.array([[40, 51],\n",
    "               [62, 73]])"
   ]
  },
  {
   "cell_type": "code",
   "execution_count": 156,
   "id": "7c691102",
   "metadata": {},
   "outputs": [
    {
     "data": {
      "text/plain": [
       "array([[10, 11, 40, 51],\n",
       "       [12, 13, 62, 73]])"
      ]
     },
     "execution_count": 156,
     "metadata": {},
     "output_type": "execute_result"
    }
   ],
   "source": [
    "# 横拼接\n",
    "np.hstack((n1,n2))"
   ]
  },
  {
   "cell_type": "code",
   "execution_count": 157,
   "id": "db866bea",
   "metadata": {},
   "outputs": [
    {
     "data": {
      "text/plain": [
       "array([[10, 11],\n",
       "       [12, 13],\n",
       "       [40, 51],\n",
       "       [62, 73]])"
      ]
     },
     "execution_count": 157,
     "metadata": {},
     "output_type": "execute_result"
    }
   ],
   "source": [
    "# 竖拼接\n",
    "np.vstack((n1,n2))"
   ]
  },
  {
   "cell_type": "code",
   "execution_count": 159,
   "id": "990ff2cd",
   "metadata": {},
   "outputs": [
    {
     "data": {
      "text/plain": [
       "array([[7., 8., 5., 6., 0., 4., 0., 8., 7., 7., 9., 9.],\n",
       "       [3., 8., 1., 9., 1., 1., 5., 1., 8., 6., 9., 5.]])"
      ]
     },
     "execution_count": 159,
     "metadata": {},
     "output_type": "execute_result"
    }
   ],
   "source": [
    "n3 = np.floor(10 * np.random.random((2, 12)))\n",
    "n3"
   ]
  },
  {
   "cell_type": "code",
   "execution_count": 160,
   "id": "72f718ff",
   "metadata": {},
   "outputs": [
    {
     "data": {
      "text/plain": [
       "[array([[7., 8., 5., 6.],\n",
       "        [3., 8., 1., 9.]]),\n",
       " array([[0., 4., 0., 8.],\n",
       "        [1., 1., 5., 1.]]),\n",
       " array([[7., 7., 9., 9.],\n",
       "        [8., 6., 9., 5.]])]"
      ]
     },
     "execution_count": 160,
     "metadata": {},
     "output_type": "execute_result"
    }
   ],
   "source": [
    "np.hsplit(n3,3)"
   ]
  },
  {
   "cell_type": "code",
   "execution_count": 161,
   "id": "eff29121",
   "metadata": {},
   "outputs": [
    {
     "data": {
      "text/plain": [
       "[array([[7., 8., 5.],\n",
       "        [3., 8., 1.]]),\n",
       " array([[6., 0.],\n",
       "        [9., 1.]]),\n",
       " array([[4., 0., 8., 7., 7., 9., 9.],\n",
       "        [1., 5., 1., 8., 6., 9., 5.]])]"
      ]
     },
     "execution_count": 161,
     "metadata": {},
     "output_type": "execute_result"
    }
   ],
   "source": [
    "np.hsplit(n3,(3,5))"
   ]
  },
  {
   "cell_type": "code",
   "execution_count": 162,
   "id": "86b0a569",
   "metadata": {},
   "outputs": [
    {
     "data": {
      "text/plain": [
       "array([[7., 3.],\n",
       "       [8., 8.],\n",
       "       [5., 1.],\n",
       "       [6., 9.],\n",
       "       [0., 1.],\n",
       "       [4., 1.],\n",
       "       [0., 5.],\n",
       "       [8., 1.],\n",
       "       [7., 8.],\n",
       "       [7., 6.],\n",
       "       [9., 9.],\n",
       "       [9., 5.]])"
      ]
     },
     "execution_count": 162,
     "metadata": {},
     "output_type": "execute_result"
    }
   ],
   "source": [
    "n3.T"
   ]
  },
  {
   "cell_type": "code",
   "execution_count": 163,
   "id": "27950016",
   "metadata": {},
   "outputs": [
    {
     "data": {
      "text/plain": [
       "[array([[7., 3.],\n",
       "        [8., 8.],\n",
       "        [5., 1.],\n",
       "        [6., 9.]]),\n",
       " array([[0., 1.],\n",
       "        [4., 1.],\n",
       "        [0., 5.],\n",
       "        [8., 1.]]),\n",
       " array([[7., 8.],\n",
       "        [7., 6.],\n",
       "        [9., 9.],\n",
       "        [9., 5.]])]"
      ]
     },
     "execution_count": 163,
     "metadata": {},
     "output_type": "execute_result"
    }
   ],
   "source": [
    "np.vsplit(n3.T,3)"
   ]
  },
  {
   "cell_type": "code",
   "execution_count": 168,
   "id": "a3750639",
   "metadata": {},
   "outputs": [
    {
     "data": {
      "text/plain": [
       "array([[9., 2., 1., 9., 8., 0.],\n",
       "       [7., 4., 0., 1., 0., 4.]])"
      ]
     },
     "execution_count": 168,
     "metadata": {},
     "output_type": "execute_result"
    }
   ],
   "source": [
    "harr = np.floor(10 * np.random.random((2, 6)))\n",
    "harr\n"
   ]
  },
  {
   "cell_type": "code",
   "execution_count": 169,
   "id": "38710be3",
   "metadata": {},
   "outputs": [
    {
     "data": {
      "text/plain": [
       "[array([[9., 2.],\n",
       "        [7., 4.]]),\n",
       " array([[1., 9.],\n",
       "        [0., 1.]]),\n",
       " array([[8., 0.],\n",
       "        [0., 4.]])]"
      ]
     },
     "execution_count": 169,
     "metadata": {},
     "output_type": "execute_result"
    }
   ],
   "source": [
    "np.hsplit(harr, 3)"
   ]
  },
  {
   "cell_type": "code",
   "execution_count": 171,
   "id": "9914adb9",
   "metadata": {},
   "outputs": [
    {
     "data": {
      "text/plain": [
       "[array([[9., 2.],\n",
       "        [7., 4.]]),\n",
       " array([[1., 9.],\n",
       "        [0., 1.]]),\n",
       " array([[8.],\n",
       "        [0.]]),\n",
       " array([[0.],\n",
       "        [4.]])]"
      ]
     },
     "execution_count": 171,
     "metadata": {},
     "output_type": "execute_result"
    }
   ],
   "source": [
    "np.hsplit(harr, (2, 4, 5))"
   ]
  },
  {
   "cell_type": "code",
   "execution_count": 172,
   "id": "e1810205",
   "metadata": {},
   "outputs": [],
   "source": [
    "x = np.arange(16.0).reshape(2, 8)"
   ]
  },
  {
   "cell_type": "code",
   "execution_count": 173,
   "id": "b249c5fb",
   "metadata": {},
   "outputs": [
    {
     "data": {
      "text/plain": [
       "array([[ 0.,  1.,  2.,  3.,  4.,  5.,  6.,  7.],\n",
       "       [ 8.,  9., 10., 11., 12., 13., 14., 15.]])"
      ]
     },
     "execution_count": 173,
     "metadata": {},
     "output_type": "execute_result"
    }
   ],
   "source": [
    "x"
   ]
  },
  {
   "cell_type": "code",
   "execution_count": 184,
   "id": "297cff25",
   "metadata": {},
   "outputs": [
    {
     "data": {
      "text/plain": [
       "[array([[0.],\n",
       "        [8.]]),\n",
       " array([[1.],\n",
       "        [9.]]),\n",
       " array([[ 2.,  3.,  4.,  5.],\n",
       "        [10., 11., 12., 13.]]),\n",
       " array([[ 6.,  7.],\n",
       "        [14., 15.]])]"
      ]
     },
     "execution_count": 184,
     "metadata": {},
     "output_type": "execute_result"
    }
   ],
   "source": [
    "np.hsplit(x, [1,2,6])"
   ]
  },
  {
   "cell_type": "code",
   "execution_count": 190,
   "id": "50674110",
   "metadata": {},
   "outputs": [],
   "source": [
    "n = np.array([-0.746, 4.6, 9.4, 7.447, 10.455, 121.555])\n"
   ]
  },
  {
   "cell_type": "code",
   "execution_count": 191,
   "id": "3036f0fe",
   "metadata": {},
   "outputs": [
    {
     "data": {
      "text/plain": [
       "array([ -0.,   0.,  10.,  10.,  10., 120.])"
      ]
     },
     "execution_count": 191,
     "metadata": {},
     "output_type": "execute_result"
    }
   ],
   "source": [
    "np.around(n, decimals=-1)\n"
   ]
  },
  {
   "cell_type": "code",
   "execution_count": null,
   "id": "9898cfa2",
   "metadata": {},
   "outputs": [],
   "source": []
  },
  {
   "cell_type": "code",
   "execution_count": 192,
   "id": "c3e90bd9",
   "metadata": {},
   "outputs": [],
   "source": [
    "n = np.array([-1.7, -2.5, -0.2, 0.6, 1.2, 2.7, 11])\n"
   ]
  },
  {
   "cell_type": "code",
   "execution_count": 193,
   "id": "8a8cf77b",
   "metadata": {},
   "outputs": [
    {
     "data": {
      "text/plain": [
       "array([-1., -2., -0.,  1.,  2.,  3., 11.])"
      ]
     },
     "execution_count": 193,
     "metadata": {},
     "output_type": "execute_result"
    }
   ],
   "source": [
    "np.ceil(n)"
   ]
  },
  {
   "cell_type": "code",
   "execution_count": 194,
   "id": "e293883d",
   "metadata": {},
   "outputs": [
    {
     "data": {
      "text/plain": [
       "array([[0.12858328, 0.80317375, 0.67889686],\n",
       "       [0.31372941, 0.08821488, 0.25861198]])"
      ]
     },
     "execution_count": 194,
     "metadata": {},
     "output_type": "execute_result"
    }
   ],
   "source": [
    "data = np.random.random([2, 3])\n",
    "data"
   ]
  },
  {
   "cell_type": "code",
   "execution_count": 197,
   "id": "9688fd31",
   "metadata": {},
   "outputs": [
    {
     "data": {
      "text/plain": [
       "array([[0.        , 0.80317375, 0.67889686],\n",
       "       [0.        , 0.        , 0.        ]])"
      ]
     },
     "execution_count": 197,
     "metadata": {},
     "output_type": "execute_result"
    }
   ],
   "source": [
    "np.where(data>0.5,data,0)"
   ]
  },
  {
   "cell_type": "code",
   "execution_count": 199,
   "id": "b531acd5",
   "metadata": {},
   "outputs": [
    {
     "data": {
      "text/plain": [
       "array([[ 5, 25],\n",
       "       [ 6, 36],\n",
       "       [ 7, 49]])"
      ]
     },
     "execution_count": 199,
     "metadata": {},
     "output_type": "execute_result"
    }
   ],
   "source": [
    "np.array([[i, i * i] for i in [5, 6, 7]])\n"
   ]
  },
  {
   "cell_type": "code",
   "execution_count": 200,
   "id": "bfcbdcff",
   "metadata": {},
   "outputs": [
    {
     "data": {
      "text/plain": [
       "array([[0., 1., 2.],\n",
       "       [3., 4., 5.],\n",
       "       [6., 7., 8.]])"
      ]
     },
     "execution_count": 200,
     "metadata": {},
     "output_type": "execute_result"
    }
   ],
   "source": [
    "np.arange(9.).reshape(3, 3)"
   ]
  },
  {
   "cell_type": "code",
   "execution_count": 201,
   "id": "4e66988a",
   "metadata": {},
   "outputs": [
    {
     "data": {
      "text/plain": [
       "array([2, 4, 6, 8])"
      ]
     },
     "execution_count": 201,
     "metadata": {},
     "output_type": "execute_result"
    }
   ],
   "source": [
    "np.arange(2, 10, 2)\n"
   ]
  },
  {
   "cell_type": "code",
   "execution_count": 202,
   "id": "64b919a8",
   "metadata": {},
   "outputs": [
    {
     "data": {
      "text/plain": [
       "array([2, 4, 6, 8])"
      ]
     },
     "execution_count": 202,
     "metadata": {},
     "output_type": "execute_result"
    }
   ],
   "source": [
    "np.arange(start=2, stop=10, step=2)\n"
   ]
  },
  {
   "cell_type": "code",
   "execution_count": 203,
   "id": "464f0929",
   "metadata": {},
   "outputs": [
    {
     "data": {
      "text/plain": [
       "array([8.56335344e-312, 0.00000000e+000, 2.52616730e-296])"
      ]
     },
     "execution_count": 203,
     "metadata": {},
     "output_type": "execute_result"
    }
   ],
   "source": [
    "np.empty(shape=3)"
   ]
  },
  {
   "cell_type": "code",
   "execution_count": 204,
   "id": "f7248588",
   "metadata": {},
   "outputs": [
    {
     "data": {
      "text/plain": [
       "array([[0.        , 0.80317375, 0.67889686],\n",
       "       [0.        , 0.        , 0.        ]])"
      ]
     },
     "execution_count": 204,
     "metadata": {},
     "output_type": "execute_result"
    }
   ],
   "source": [
    "np.empty(shape=(2,3))"
   ]
  },
  {
   "cell_type": "code",
   "execution_count": 205,
   "id": "02860bc0",
   "metadata": {},
   "outputs": [
    {
     "data": {
      "text/plain": [
       "array([[-1924755376,         403,           0],\n",
       "       [          0,           1,    43025764]])"
      ]
     },
     "execution_count": 205,
     "metadata": {},
     "output_type": "execute_result"
    }
   ],
   "source": [
    "np.empty(shape=(2,3),dtype=int)"
   ]
  },
  {
   "cell_type": "code",
   "execution_count": 206,
   "id": "60662428",
   "metadata": {},
   "outputs": [
    {
     "data": {
      "text/plain": [
       "array([1., 1., 1., 1., 1.])"
      ]
     },
     "execution_count": 206,
     "metadata": {},
     "output_type": "execute_result"
    }
   ],
   "source": [
    "np.ones(5)"
   ]
  },
  {
   "cell_type": "code",
   "execution_count": 209,
   "id": "f60d9031",
   "metadata": {},
   "outputs": [
    {
     "data": {
      "text/plain": [
       "dtype('float64')"
      ]
     },
     "execution_count": 209,
     "metadata": {},
     "output_type": "execute_result"
    }
   ],
   "source": [
    "np.ones(5).dtype"
   ]
  },
  {
   "cell_type": "code",
   "execution_count": 211,
   "id": "1b520278",
   "metadata": {},
   "outputs": [
    {
     "data": {
      "text/plain": [
       "array([[7, 7, 7],\n",
       "       [7, 7, 7]])"
      ]
     },
     "execution_count": 211,
     "metadata": {},
     "output_type": "execute_result"
    }
   ],
   "source": [
    "np.full((2, 3), 7)"
   ]
  },
  {
   "cell_type": "code",
   "execution_count": 213,
   "id": "ec6ec82b",
   "metadata": {},
   "outputs": [],
   "source": [
    "n1=np.arange(0,40,10)"
   ]
  },
  {
   "cell_type": "code",
   "execution_count": 214,
   "id": "003636a2",
   "metadata": {},
   "outputs": [
    {
     "data": {
      "text/plain": [
       "array([[ 0, 10, 20, 30,  0, 10, 20, 30,  0, 10, 20, 30,  0, 10, 20, 30,\n",
       "         0, 10, 20, 30],\n",
       "       [ 0, 10, 20, 30,  0, 10, 20, 30,  0, 10, 20, 30,  0, 10, 20, 30,\n",
       "         0, 10, 20, 30],\n",
       "       [ 0, 10, 20, 30,  0, 10, 20, 30,  0, 10, 20, 30,  0, 10, 20, 30,\n",
       "         0, 10, 20, 30]])"
      ]
     },
     "execution_count": 214,
     "metadata": {},
     "output_type": "execute_result"
    }
   ],
   "source": [
    "np.tile(n1,(3,5))"
   ]
  },
  {
   "cell_type": "code",
   "execution_count": 215,
   "id": "2705d87c",
   "metadata": {},
   "outputs": [
    {
     "data": {
      "text/plain": [
       "array([1, 2, 3, 4, 5, 6, 7, 8, 9])"
      ]
     },
     "execution_count": 215,
     "metadata": {},
     "output_type": "execute_result"
    }
   ],
   "source": [
    "np.r_[[1,2,3],[4,5,6],[7,8,9]]\n"
   ]
  },
  {
   "cell_type": "code",
   "execution_count": 221,
   "id": "8e3a4ef0",
   "metadata": {},
   "outputs": [],
   "source": [
    "a = np.array([[1, 2, 3],[7,8,9]])\n",
    "b=np.array([[4,5,6],[1,2,3]])"
   ]
  },
  {
   "cell_type": "code",
   "execution_count": 222,
   "id": "1177973c",
   "metadata": {},
   "outputs": [
    {
     "data": {
      "text/plain": [
       "array([[1, 2, 3],\n",
       "       [7, 8, 9],\n",
       "       [4, 5, 6],\n",
       "       [1, 2, 3]])"
      ]
     },
     "execution_count": 222,
     "metadata": {},
     "output_type": "execute_result"
    }
   ],
   "source": [
    "np.r_[a,b]\n"
   ]
  },
  {
   "cell_type": "code",
   "execution_count": 223,
   "id": "3549ff2d",
   "metadata": {},
   "outputs": [
    {
     "data": {
      "text/plain": [
       "array([-5. , -2.5,  0. ,  2.5,  5. ])"
      ]
     },
     "execution_count": 223,
     "metadata": {},
     "output_type": "execute_result"
    }
   ],
   "source": [
    " np.linspace(-5, 5, 5)"
   ]
  },
  {
   "cell_type": "code",
   "execution_count": 224,
   "id": "bd65f91c",
   "metadata": {},
   "outputs": [
    {
     "data": {
      "text/plain": [
       "array([-5., -3., -1.,  1.,  3.])"
      ]
     },
     "execution_count": 224,
     "metadata": {},
     "output_type": "execute_result"
    }
   ],
   "source": [
    " np.linspace(-5, 5, 5, False)"
   ]
  },
  {
   "cell_type": "code",
   "execution_count": 225,
   "id": "89343e5d",
   "metadata": {},
   "outputs": [
    {
     "data": {
      "text/plain": [
       "(array([-5., -3., -1.,  1.,  3.]), 2.0)"
      ]
     },
     "execution_count": 225,
     "metadata": {},
     "output_type": "execute_result"
    }
   ],
   "source": [
    " np.linspace(-5, 5, 5, False,True)"
   ]
  },
  {
   "cell_type": "code",
   "execution_count": 226,
   "id": "6bd1533d",
   "metadata": {},
   "outputs": [
    {
     "data": {
      "text/plain": [
       "(array([-5, -3, -1,  1,  3]), 2.0)"
      ]
     },
     "execution_count": 226,
     "metadata": {},
     "output_type": "execute_result"
    }
   ],
   "source": [
    " np.linspace(-5, 5, 5, False,True,int)"
   ]
  },
  {
   "cell_type": "code",
   "execution_count": null,
   "id": "dfb76163",
   "metadata": {},
   "outputs": [],
   "source": []
  }
 ],
 "metadata": {
  "kernelspec": {
   "display_name": "Python 3",
   "language": "python",
   "name": "python3"
  },
  "language_info": {
   "codemirror_mode": {
    "name": "ipython",
    "version": 3
   },
   "file_extension": ".py",
   "mimetype": "text/x-python",
   "name": "python",
   "nbconvert_exporter": "python",
   "pygments_lexer": "ipython3",
   "version": "3.9.1"
  }
 },
 "nbformat": 4,
 "nbformat_minor": 5
}
