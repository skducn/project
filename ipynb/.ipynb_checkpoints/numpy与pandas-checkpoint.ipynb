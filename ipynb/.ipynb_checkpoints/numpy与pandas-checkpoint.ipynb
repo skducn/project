{
 "cells": [
  {
   "cell_type": "code",
   "execution_count": 190,
   "id": "98278295",
   "metadata": {},
   "outputs": [
    {
     "name": "stdout",
     "output_type": "stream",
     "text": [
      "/Users/linghuchong/Downloads/51/Python/project\n",
      "1211212121\n"
     ]
    }
   ],
   "source": [
    "# pi3 install jupyter\n",
    "# pip3 install numpy \n",
    "# pip3 install pandas\n",
    "# 启动 jupyter \n",
    "# 在工作目录下启动 jupyte notebook\n",
    "\n",
    "# numpy 一个多维的数组，只是在原来的list上做了一些分装，提供了非常便利的科学运算功能\n",
    "# pandas 侧重于数据处理，清洗\n",
    "# pandas用户指南，https://pandas.pydata.org/docs/user_guide/index.html\n",
    "\n",
    "# Shift + 回车  //执行\n",
    "# all + 回车\n",
    "\n",
    "from PO.StrPO import *\n",
    "Str_PO = StrPO()\n",
    "import numpy as np\n",
    "import pandas as pd \n",
    "#获取默认路径\n",
    "import os\n",
    "print (os.path.abspath('.'))\n",
    "\n",
    "print(1211212121)\n",
    "\n"
   ]
  },
  {
   "cell_type": "code",
   "execution_count": 18,
   "id": "2b03e314",
   "metadata": {},
   "outputs": [],
   "source": [
    "# a = np.array()   # 报错，选中 array() 按 shift + tab ,显示函数array参数信息，便于定位或修改。\n",
    "\n",
    "a = np.array([1,2,3,4])"
   ]
  },
  {
   "cell_type": "code",
   "execution_count": 17,
   "id": "d77c68aa",
   "metadata": {},
   "outputs": [
    {
     "data": {
      "text/plain": [
       "array([1, 2, 3, 4])"
      ]
     },
     "execution_count": 17,
     "metadata": {},
     "output_type": "execute_result"
    }
   ],
   "source": [
    "a"
   ]
  },
  {
   "cell_type": "code",
   "execution_count": 18,
   "id": "f632d7cb",
   "metadata": {},
   "outputs": [
    {
     "data": {
      "text/plain": [
       "array([[1, 2],\n",
       "       [3, 4],\n",
       "       [5, 6]])"
      ]
     },
     "execution_count": 18,
     "metadata": {},
     "output_type": "execute_result"
    }
   ],
   "source": [
    "np.array([[1,2],[3,4],[5,6]])"
   ]
  },
  {
   "cell_type": "code",
   "execution_count": 23,
   "id": "df16028d",
   "metadata": {},
   "outputs": [
    {
     "data": {
      "text/plain": [
       "3"
      ]
     },
     "execution_count": 23,
     "metadata": {},
     "output_type": "execute_result"
    }
   ],
   "source": [
    "b = np.array([[[1,2],[3,4],[5,6]]])\n",
    "b.ndim  # 查看数据维度"
   ]
  },
  {
   "cell_type": "code",
   "execution_count": 24,
   "id": "1c2bfc37",
   "metadata": {},
   "outputs": [
    {
     "data": {
      "text/plain": [
       "dtype('int32')"
      ]
     },
     "execution_count": 24,
     "metadata": {},
     "output_type": "execute_result"
    }
   ],
   "source": [
    "b.dtype"
   ]
  },
  {
   "cell_type": "code",
   "execution_count": 25,
   "id": "530ff3a3",
   "metadata": {},
   "outputs": [
    {
     "data": {
      "text/plain": [
       "array([0, 1, 2, 3, 4, 5, 6, 7, 8, 9])"
      ]
     },
     "execution_count": 25,
     "metadata": {},
     "output_type": "execute_result"
    }
   ],
   "source": [
    "np.arange(10)"
   ]
  },
  {
   "cell_type": "code",
   "execution_count": 26,
   "id": "c05e2142",
   "metadata": {},
   "outputs": [
    {
     "data": {
      "text/plain": [
       "array([0. , 0.2, 0.4, 0.6, 0.8, 1. , 1.2, 1.4, 1.6, 1.8, 2. ])"
      ]
     },
     "execution_count": 26,
     "metadata": {},
     "output_type": "execute_result"
    }
   ],
   "source": [
    "np.linspace(0,2,11)"
   ]
  },
  {
   "cell_type": "code",
   "execution_count": 28,
   "id": "26c5b071",
   "metadata": {},
   "outputs": [
    {
     "data": {
      "text/plain": [
       "array([[ 0.17456244,  1.11781065, -1.47141636, -0.35115272],\n",
       "       [ 1.14040353,  1.34425734,  1.83383668, -0.36580451],\n",
       "       [-0.14024266, -1.70936399,  0.49956777,  1.25749178],\n",
       "       [-1.28500841, -0.38692749,  1.8881775 ,  0.22967062],\n",
       "       [ 0.05590032,  1.00824817, -0.40479993, -1.51433327],\n",
       "       [ 0.13224976,  0.56683938, -0.21911269, -0.32850995]])"
      ]
     },
     "execution_count": 28,
     "metadata": {},
     "output_type": "execute_result"
    }
   ],
   "source": [
    "np.random.randn(6,4)"
   ]
  },
  {
   "cell_type": "code",
   "execution_count": 31,
   "id": "aaefcc9d",
   "metadata": {},
   "outputs": [],
   "source": [
    "### 【amdas 简介\n",
    "# - 是一个专注于数据处理的一个库\n",
    "# - 可以帮助数据分析、数据挖掘、算法工程师的人员其高耸的姐姐数据预处理的问题\n",
    "###"
   ]
  },
  {
   "cell_type": "code",
   "execution_count": 33,
   "id": "01cf4a95",
   "metadata": {},
   "outputs": [
    {
     "data": {
      "text/plain": [
       "0    1\n",
       "1    2\n",
       "2    3\n",
       "3    4\n",
       "4    5\n",
       "dtype: int64"
      ]
     },
     "execution_count": 33,
     "metadata": {},
     "output_type": "execute_result"
    }
   ],
   "source": [
    "# pandas 的第一个数据类型Series\n",
    "obj = pd.Series([1,2,3,4,5])\n",
    "obj"
   ]
  },
  {
   "cell_type": "code",
   "execution_count": 34,
   "id": "26dce351",
   "metadata": {},
   "outputs": [
    {
     "data": {
      "text/plain": [
       "1"
      ]
     },
     "execution_count": 34,
     "metadata": {},
     "output_type": "execute_result"
    }
   ],
   "source": [
    "obj[0]"
   ]
  },
  {
   "cell_type": "code",
   "execution_count": 35,
   "id": "ca24b5cd",
   "metadata": {},
   "outputs": [
    {
     "data": {
      "text/plain": [
       "0    1\n",
       "2    3\n",
       "4    5\n",
       "dtype: int64"
      ]
     },
     "execution_count": 35,
     "metadata": {},
     "output_type": "execute_result"
    }
   ],
   "source": [
    "obj[[0,2,4]]  # 注意，这里是两个括号，因为要取出来多个位置的元素时，接收的时一个list"
   ]
  },
  {
   "cell_type": "code",
   "execution_count": 39,
   "id": "e2b32996",
   "metadata": {},
   "outputs": [
    {
     "data": {
      "text/plain": [
       "姓名    张三\n",
       "年龄    12\n",
       "dtype: object"
      ]
     },
     "execution_count": 39,
     "metadata": {},
     "output_type": "execute_result"
    }
   ],
   "source": [
    "obj2 = pd.Series({\"姓名\":\"张三\",\"年龄\":\"12\"})\n",
    "obj2"
   ]
  },
  {
   "cell_type": "code",
   "execution_count": 40,
   "id": "b7353604",
   "metadata": {},
   "outputs": [
    {
     "data": {
      "text/plain": [
       "'张三'"
      ]
     },
     "execution_count": 40,
     "metadata": {},
     "output_type": "execute_result"
    }
   ],
   "source": [
    "obj2[\"姓名\"]"
   ]
  },
  {
   "cell_type": "code",
   "execution_count": 43,
   "id": "92789ac5",
   "metadata": {},
   "outputs": [
    {
     "data": {
      "text/plain": [
       "姓名    张三\n",
       "年龄    12\n",
       "dtype: object"
      ]
     },
     "execution_count": 43,
     "metadata": {},
     "output_type": "execute_result"
    }
   ],
   "source": [
    "obj2[[\"姓名\",\"年龄\"]]"
   ]
  },
  {
   "cell_type": "code",
   "execution_count": 45,
   "id": "dc6f9966",
   "metadata": {},
   "outputs": [
    {
     "data": {
      "text/plain": [
       "姓名    夏雨荷\n",
       "地址     山东\n",
       "年龄     19\n",
       "dtype: object"
      ]
     },
     "execution_count": 45,
     "metadata": {},
     "output_type": "execute_result"
    }
   ],
   "source": [
    "obj3 = pd.Series([\"夏雨荷\",\"山东\",19],index=[\"姓名\",\"地址\",\"年龄\"])\n",
    "obj3"
   ]
  },
  {
   "cell_type": "code",
   "execution_count": 56,
   "id": "d79a6ac3",
   "metadata": {},
   "outputs": [
    {
     "data": {
      "text/plain": [
       "pandas.core.series.Series"
      ]
     },
     "execution_count": 56,
     "metadata": {},
     "output_type": "execute_result"
    }
   ],
   "source": [
    "# pandas结合这Numpy来进行数学运算\n",
    "number1 = pd.Series([4,8,16,32])\n",
    "np.log2(number1)  # 对数运算\n",
    "a = np.log2(number1)  # 对数运算\n",
    "type(a)"
   ]
  },
  {
   "cell_type": "code",
   "execution_count": 55,
   "id": "9993e755",
   "metadata": {},
   "outputs": [
    {
     "data": {
      "text/html": [
       "<div>\n",
       "<style scoped>\n",
       "    .dataframe tbody tr th:only-of-type {\n",
       "        vertical-align: middle;\n",
       "    }\n",
       "\n",
       "    .dataframe tbody tr th {\n",
       "        vertical-align: top;\n",
       "    }\n",
       "\n",
       "    .dataframe thead th {\n",
       "        text-align: right;\n",
       "    }\n",
       "</style>\n",
       "<table border=\"1\" class=\"dataframe\">\n",
       "  <thead>\n",
       "    <tr style=\"text-align: right;\">\n",
       "      <th></th>\n",
       "      <th>0</th>\n",
       "      <th>1</th>\n",
       "      <th>2</th>\n",
       "    </tr>\n",
       "  </thead>\n",
       "  <tbody>\n",
       "    <tr>\n",
       "      <th>0</th>\n",
       "      <td>张无忌</td>\n",
       "      <td>24</td>\n",
       "      <td>男</td>\n",
       "    </tr>\n",
       "    <tr>\n",
       "      <th>1</th>\n",
       "      <td>谢逊</td>\n",
       "      <td>54</td>\n",
       "      <td>男</td>\n",
       "    </tr>\n",
       "    <tr>\n",
       "      <th>2</th>\n",
       "      <td>周芷若</td>\n",
       "      <td>16</td>\n",
       "      <td>女</td>\n",
       "    </tr>\n",
       "  </tbody>\n",
       "</table>\n",
       "</div>"
      ],
      "text/plain": [
       "     0   1  2\n",
       "0  张无忌  24  男\n",
       "1   谢逊  54  男\n",
       "2  周芷若  16  女"
      ]
     },
     "execution_count": 55,
     "metadata": {},
     "output_type": "execute_result"
    }
   ],
   "source": [
    "# dataFrame\n",
    "df1 = pd.DataFrame([[\"张无忌\",24,\"男\"],[\"谢逊\",54,\"男\"],[\"周芷若\",16,\"女\"]])\n",
    "df1"
   ]
  },
  {
   "cell_type": "code",
   "execution_count": 58,
   "id": "bf62b2bd",
   "metadata": {},
   "outputs": [
    {
     "data": {
      "text/html": [
       "<div>\n",
       "<style scoped>\n",
       "    .dataframe tbody tr th:only-of-type {\n",
       "        vertical-align: middle;\n",
       "    }\n",
       "\n",
       "    .dataframe tbody tr th {\n",
       "        vertical-align: top;\n",
       "    }\n",
       "\n",
       "    .dataframe thead th {\n",
       "        text-align: right;\n",
       "    }\n",
       "</style>\n",
       "<table border=\"1\" class=\"dataframe\">\n",
       "  <thead>\n",
       "    <tr style=\"text-align: right;\">\n",
       "      <th></th>\n",
       "      <th>人物</th>\n",
       "      <th>风景</th>\n",
       "    </tr>\n",
       "  </thead>\n",
       "  <tbody>\n",
       "    <tr>\n",
       "      <th>0</th>\n",
       "      <td>张三丰</td>\n",
       "      <td>武当山</td>\n",
       "    </tr>\n",
       "    <tr>\n",
       "      <th>1</th>\n",
       "      <td>张无忌</td>\n",
       "      <td>桃花岛</td>\n",
       "    </tr>\n",
       "    <tr>\n",
       "      <th>2</th>\n",
       "      <td>张翠山</td>\n",
       "      <td>冰火岛</td>\n",
       "    </tr>\n",
       "  </tbody>\n",
       "</table>\n",
       "</div>"
      ],
      "text/plain": [
       "    人物   风景\n",
       "0  张三丰  武当山\n",
       "1  张无忌  桃花岛\n",
       "2  张翠山  冰火岛"
      ]
     },
     "execution_count": 58,
     "metadata": {},
     "output_type": "execute_result"
    }
   ],
   "source": [
    "# 使用字典进行构造\n",
    "data = {\n",
    "    \"人物\":[\"张三丰\",\"张无忌\",\"张翠山\"],\n",
    "    \"风景\":[\"武当山\",\"桃花岛\",\"冰火岛\"]\n",
    "}\n",
    "df2 = pd.DataFrame(data)\n",
    "df2"
   ]
  },
  {
   "cell_type": "code",
   "execution_count": 59,
   "id": "4853686f",
   "metadata": {},
   "outputs": [
    {
     "data": {
      "text/plain": [
       "0    张三丰\n",
       "1    张无忌\n",
       "2    张翠山\n",
       "Name: 人物, dtype: object"
      ]
     },
     "execution_count": 59,
     "metadata": {},
     "output_type": "execute_result"
    }
   ],
   "source": [
    "df2[\"人物\"]"
   ]
  },
  {
   "cell_type": "code",
   "execution_count": 60,
   "id": "44884317",
   "metadata": {},
   "outputs": [
    {
     "data": {
      "text/plain": [
       "'张无忌'"
      ]
     },
     "execution_count": 60,
     "metadata": {},
     "output_type": "execute_result"
    }
   ],
   "source": [
    "df2[\"人物\"][1]"
   ]
  },
  {
   "cell_type": "code",
   "execution_count": 61,
   "id": "5f2af06b",
   "metadata": {},
   "outputs": [
    {
     "data": {
      "text/html": [
       "<div>\n",
       "<style scoped>\n",
       "    .dataframe tbody tr th:only-of-type {\n",
       "        vertical-align: middle;\n",
       "    }\n",
       "\n",
       "    .dataframe tbody tr th {\n",
       "        vertical-align: top;\n",
       "    }\n",
       "\n",
       "    .dataframe thead th {\n",
       "        text-align: right;\n",
       "    }\n",
       "</style>\n",
       "<table border=\"1\" class=\"dataframe\">\n",
       "  <thead>\n",
       "    <tr style=\"text-align: right;\">\n",
       "      <th></th>\n",
       "      <th>0</th>\n",
       "      <th>1</th>\n",
       "      <th>2</th>\n",
       "    </tr>\n",
       "  </thead>\n",
       "  <tbody>\n",
       "    <tr>\n",
       "      <th>0</th>\n",
       "      <td>张无忌</td>\n",
       "      <td>24</td>\n",
       "      <td>男</td>\n",
       "    </tr>\n",
       "    <tr>\n",
       "      <th>1</th>\n",
       "      <td>谢逊</td>\n",
       "      <td>54</td>\n",
       "      <td>男</td>\n",
       "    </tr>\n",
       "    <tr>\n",
       "      <th>2</th>\n",
       "      <td>周芷若</td>\n",
       "      <td>16</td>\n",
       "      <td>女</td>\n",
       "    </tr>\n",
       "  </tbody>\n",
       "</table>\n",
       "</div>"
      ],
      "text/plain": [
       "     0   1  2\n",
       "0  张无忌  24  男\n",
       "1   谢逊  54  男\n",
       "2  周芷若  16  女"
      ]
     },
     "execution_count": 61,
     "metadata": {},
     "output_type": "execute_result"
    }
   ],
   "source": [
    "np_data = [[\"张无忌\",24,\"男\"],[\"谢逊\",54,\"男\"],[\"周芷若\",16,\"女\"]]\n",
    "df3 = pd.DataFrame(np_data)\n",
    "df3"
   ]
  },
  {
   "cell_type": "code",
   "execution_count": 21,
   "id": "7249b275",
   "metadata": {},
   "outputs": [
    {
     "data": {
      "text/html": [
       "<div>\n",
       "<style scoped>\n",
       "    .dataframe tbody tr th:only-of-type {\n",
       "        vertical-align: middle;\n",
       "    }\n",
       "\n",
       "    .dataframe tbody tr th {\n",
       "        vertical-align: top;\n",
       "    }\n",
       "\n",
       "    .dataframe thead th {\n",
       "        text-align: right;\n",
       "    }\n",
       "</style>\n",
       "<table border=\"1\" class=\"dataframe\">\n",
       "  <thead>\n",
       "    <tr style=\"text-align: right;\">\n",
       "      <th></th>\n",
       "      <th>a</th>\n",
       "      <th>b</th>\n",
       "      <th>c</th>\n",
       "      <th>d</th>\n",
       "      <th>e</th>\n",
       "      <th>f</th>\n",
       "    </tr>\n",
       "  </thead>\n",
       "  <tbody>\n",
       "    <tr>\n",
       "      <th>0</th>\n",
       "      <td>1</td>\n",
       "      <td>2</td>\n",
       "      <td>3</td>\n",
       "      <td>4</td>\n",
       "      <td>5</td>\n",
       "      <td>6</td>\n",
       "    </tr>\n",
       "    <tr>\n",
       "      <th>1</th>\n",
       "      <td>10</td>\n",
       "      <td>11</td>\n",
       "      <td>12</td>\n",
       "      <td>13</td>\n",
       "      <td>14</td>\n",
       "      <td>15</td>\n",
       "    </tr>\n",
       "  </tbody>\n",
       "</table>\n",
       "</div>"
      ],
      "text/plain": [
       "    a   b   c   d   e   f\n",
       "0   1   2   3   4   5   6\n",
       "1  10  11  12  13  14  15"
      ]
     },
     "execution_count": 21,
     "metadata": {},
     "output_type": "execute_result"
    }
   ],
   "source": [
    "# 读取csv文件\n",
    "pd.read_csv(\"data.csv\")"
   ]
  },
  {
   "cell_type": "code",
   "execution_count": 23,
   "id": "b0cbb9bb",
   "metadata": {},
   "outputs": [
    {
     "data": {
      "text/html": [
       "<div>\n",
       "<style scoped>\n",
       "    .dataframe tbody tr th:only-of-type {\n",
       "        vertical-align: middle;\n",
       "    }\n",
       "\n",
       "    .dataframe tbody tr th {\n",
       "        vertical-align: top;\n",
       "    }\n",
       "\n",
       "    .dataframe thead th {\n",
       "        text-align: right;\n",
       "    }\n",
       "</style>\n",
       "<table border=\"1\" class=\"dataframe\">\n",
       "  <thead>\n",
       "    <tr style=\"text-align: right;\">\n",
       "      <th></th>\n",
       "      <th>0</th>\n",
       "      <th>1</th>\n",
       "      <th>2</th>\n",
       "      <th>3</th>\n",
       "      <th>4</th>\n",
       "      <th>5</th>\n",
       "    </tr>\n",
       "  </thead>\n",
       "  <tbody>\n",
       "    <tr>\n",
       "      <th>0</th>\n",
       "      <td>a</td>\n",
       "      <td>b</td>\n",
       "      <td>c</td>\n",
       "      <td>d</td>\n",
       "      <td>e</td>\n",
       "      <td>f</td>\n",
       "    </tr>\n",
       "    <tr>\n",
       "      <th>1</th>\n",
       "      <td>1</td>\n",
       "      <td>2</td>\n",
       "      <td>3</td>\n",
       "      <td>4</td>\n",
       "      <td>5</td>\n",
       "      <td>6</td>\n",
       "    </tr>\n",
       "    <tr>\n",
       "      <th>2</th>\n",
       "      <td>10</td>\n",
       "      <td>11</td>\n",
       "      <td>12</td>\n",
       "      <td>13</td>\n",
       "      <td>14</td>\n",
       "      <td>15</td>\n",
       "    </tr>\n",
       "  </tbody>\n",
       "</table>\n",
       "</div>"
      ],
      "text/plain": [
       "    0   1   2   3   4   5\n",
       "0   a   b   c   d   e   f\n",
       "1   1   2   3   4   5   6\n",
       "2  10  11  12  13  14  15"
      ]
     },
     "execution_count": 23,
     "metadata": {},
     "output_type": "execute_result"
    }
   ],
   "source": [
    "# 将第一行标题作为数据\n",
    "pd.read_csv(\"data.csv\", header=None)"
   ]
  },
  {
   "cell_type": "code",
   "execution_count": 77,
   "id": "cb3d0c33",
   "metadata": {},
   "outputs": [
    {
     "data": {
      "text/html": [
       "<div>\n",
       "<style scoped>\n",
       "    .dataframe tbody tr th:only-of-type {\n",
       "        vertical-align: middle;\n",
       "    }\n",
       "\n",
       "    .dataframe tbody tr th {\n",
       "        vertical-align: top;\n",
       "    }\n",
       "\n",
       "    .dataframe thead th {\n",
       "        text-align: right;\n",
       "    }\n",
       "</style>\n",
       "<table border=\"1\" class=\"dataframe\">\n",
       "  <thead>\n",
       "    <tr style=\"text-align: right;\">\n",
       "      <th></th>\n",
       "      <th>a</th>\n",
       "      <th>b</th>\n",
       "      <th>d</th>\n",
       "      <th>e</th>\n",
       "      <th>f</th>\n",
       "    </tr>\n",
       "    <tr>\n",
       "      <th>c</th>\n",
       "      <th></th>\n",
       "      <th></th>\n",
       "      <th></th>\n",
       "      <th></th>\n",
       "      <th></th>\n",
       "    </tr>\n",
       "  </thead>\n",
       "  <tbody>\n",
       "    <tr>\n",
       "      <th>3</th>\n",
       "      <td>1</td>\n",
       "      <td>2</td>\n",
       "      <td>4</td>\n",
       "      <td>5</td>\n",
       "      <td>6</td>\n",
       "    </tr>\n",
       "    <tr>\n",
       "      <th>12</th>\n",
       "      <td>10</td>\n",
       "      <td>11</td>\n",
       "      <td>13</td>\n",
       "      <td>14</td>\n",
       "      <td>15</td>\n",
       "    </tr>\n",
       "  </tbody>\n",
       "</table>\n",
       "</div>"
      ],
      "text/plain": [
       "     a   b   d   e   f\n",
       "c                     \n",
       "3    1   2   4   5   6\n",
       "12  10  11  13  14  15"
      ]
     },
     "execution_count": 77,
     "metadata": {},
     "output_type": "execute_result"
    }
   ],
   "source": [
    "# 指定c这列作为索引\n",
    "pd.read_csv(\"data.csv\",index_col='c')\n"
   ]
  },
  {
   "cell_type": "code",
   "execution_count": 78,
   "id": "d9227538",
   "metadata": {},
   "outputs": [
    {
     "data": {
      "text/plain": [
       "pandas.core.frame.DataFrame"
      ]
     },
     "execution_count": 78,
     "metadata": {},
     "output_type": "execute_result"
    }
   ],
   "source": [
    "a = pd.read_csv(\"data.csv\",index_col='c')\n",
    "type(a)"
   ]
  },
  {
   "cell_type": "code",
   "execution_count": 79,
   "id": "eff1c7b8",
   "metadata": {},
   "outputs": [
    {
     "data": {
      "text/plain": [
       "'a'"
      ]
     },
     "execution_count": 79,
     "metadata": {},
     "output_type": "execute_result"
    }
   ],
   "source": [
    "pd.read_csv(\"data.csv\", header=None)[0][0]\n"
   ]
  },
  {
   "cell_type": "code",
   "execution_count": 85,
   "id": "2e9f048a",
   "metadata": {},
   "outputs": [
    {
     "data": {
      "text/plain": [
       "(2, 6)"
      ]
     },
     "execution_count": 85,
     "metadata": {},
     "output_type": "execute_result"
    }
   ],
   "source": [
    "# 行列数\n",
    "csv = pd.read_csv(\"data.csv\")\n",
    "csv.shape"
   ]
  },
  {
   "cell_type": "code",
   "execution_count": 86,
   "id": "6ffcffbf",
   "metadata": {},
   "outputs": [
    {
     "data": {
      "text/plain": [
       "a    int64\n",
       "b    int64\n",
       "c    int64\n",
       "d    int64\n",
       "e    int64\n",
       "f    int64\n",
       "dtype: object"
      ]
     },
     "execution_count": 86,
     "metadata": {},
     "output_type": "execute_result"
    }
   ],
   "source": [
    "# 每一列的数据类型\n",
    "csv.dtypes "
   ]
  },
  {
   "cell_type": "code",
   "execution_count": 87,
   "id": "0aee2545",
   "metadata": {},
   "outputs": [
    {
     "data": {
      "text/plain": [
       "0     2\n",
       "1    11\n",
       "Name: b, dtype: int64"
      ]
     },
     "execution_count": 87,
     "metadata": {},
     "output_type": "execute_result"
    }
   ],
   "source": [
    "# 显示b列的数据及类型\n",
    "csv.b"
   ]
  },
  {
   "cell_type": "code",
   "execution_count": 89,
   "id": "7e748391",
   "metadata": {},
   "outputs": [
    {
     "data": {
      "text/html": [
       "<div>\n",
       "<style scoped>\n",
       "    .dataframe tbody tr th:only-of-type {\n",
       "        vertical-align: middle;\n",
       "    }\n",
       "\n",
       "    .dataframe tbody tr th {\n",
       "        vertical-align: top;\n",
       "    }\n",
       "\n",
       "    .dataframe thead th {\n",
       "        text-align: right;\n",
       "    }\n",
       "</style>\n",
       "<table border=\"1\" class=\"dataframe\">\n",
       "  <thead>\n",
       "    <tr style=\"text-align: right;\">\n",
       "      <th></th>\n",
       "      <th>a</th>\n",
       "      <th>b</th>\n",
       "      <th>c</th>\n",
       "      <th>d</th>\n",
       "      <th>e</th>\n",
       "      <th>f</th>\n",
       "    </tr>\n",
       "  </thead>\n",
       "  <tbody>\n",
       "    <tr>\n",
       "      <th>count</th>\n",
       "      <td>2.000000</td>\n",
       "      <td>2.000000</td>\n",
       "      <td>2.000000</td>\n",
       "      <td>2.000000</td>\n",
       "      <td>2.000000</td>\n",
       "      <td>2.000000</td>\n",
       "    </tr>\n",
       "    <tr>\n",
       "      <th>mean</th>\n",
       "      <td>5.500000</td>\n",
       "      <td>6.500000</td>\n",
       "      <td>7.500000</td>\n",
       "      <td>8.500000</td>\n",
       "      <td>9.500000</td>\n",
       "      <td>10.500000</td>\n",
       "    </tr>\n",
       "    <tr>\n",
       "      <th>std</th>\n",
       "      <td>6.363961</td>\n",
       "      <td>6.363961</td>\n",
       "      <td>6.363961</td>\n",
       "      <td>6.363961</td>\n",
       "      <td>6.363961</td>\n",
       "      <td>6.363961</td>\n",
       "    </tr>\n",
       "    <tr>\n",
       "      <th>min</th>\n",
       "      <td>1.000000</td>\n",
       "      <td>2.000000</td>\n",
       "      <td>3.000000</td>\n",
       "      <td>4.000000</td>\n",
       "      <td>5.000000</td>\n",
       "      <td>6.000000</td>\n",
       "    </tr>\n",
       "    <tr>\n",
       "      <th>25%</th>\n",
       "      <td>3.250000</td>\n",
       "      <td>4.250000</td>\n",
       "      <td>5.250000</td>\n",
       "      <td>6.250000</td>\n",
       "      <td>7.250000</td>\n",
       "      <td>8.250000</td>\n",
       "    </tr>\n",
       "    <tr>\n",
       "      <th>50%</th>\n",
       "      <td>5.500000</td>\n",
       "      <td>6.500000</td>\n",
       "      <td>7.500000</td>\n",
       "      <td>8.500000</td>\n",
       "      <td>9.500000</td>\n",
       "      <td>10.500000</td>\n",
       "    </tr>\n",
       "    <tr>\n",
       "      <th>75%</th>\n",
       "      <td>7.750000</td>\n",
       "      <td>8.750000</td>\n",
       "      <td>9.750000</td>\n",
       "      <td>10.750000</td>\n",
       "      <td>11.750000</td>\n",
       "      <td>12.750000</td>\n",
       "    </tr>\n",
       "    <tr>\n",
       "      <th>max</th>\n",
       "      <td>10.000000</td>\n",
       "      <td>11.000000</td>\n",
       "      <td>12.000000</td>\n",
       "      <td>13.000000</td>\n",
       "      <td>14.000000</td>\n",
       "      <td>15.000000</td>\n",
       "    </tr>\n",
       "  </tbody>\n",
       "</table>\n",
       "</div>"
      ],
      "text/plain": [
       "               a          b          c          d          e          f\n",
       "count   2.000000   2.000000   2.000000   2.000000   2.000000   2.000000\n",
       "mean    5.500000   6.500000   7.500000   8.500000   9.500000  10.500000\n",
       "std     6.363961   6.363961   6.363961   6.363961   6.363961   6.363961\n",
       "min     1.000000   2.000000   3.000000   4.000000   5.000000   6.000000\n",
       "25%     3.250000   4.250000   5.250000   6.250000   7.250000   8.250000\n",
       "50%     5.500000   6.500000   7.500000   8.500000   9.500000  10.500000\n",
       "75%     7.750000   8.750000   9.750000  10.750000  11.750000  12.750000\n",
       "max    10.000000  11.000000  12.000000  13.000000  14.000000  15.000000"
      ]
     },
     "execution_count": 89,
     "metadata": {},
     "output_type": "execute_result"
    }
   ],
   "source": [
    "# 数据统计性描述\n",
    "csv.describe()"
   ]
  },
  {
   "cell_type": "code",
   "execution_count": 91,
   "id": "f1a44837",
   "metadata": {},
   "outputs": [
    {
     "data": {
      "text/plain": [
       "DatetimeIndex(['2020-11-27', '2020-11-28', '2020-11-29', '2020-11-30',\n",
       "               '2020-12-01', '2020-12-02'],\n",
       "              dtype='datetime64[ns]', freq='D')"
      ]
     },
     "execution_count": 91,
     "metadata": {},
     "output_type": "execute_result"
    }
   ],
   "source": [
    "dates = pd.date_range(\"20201127\",periods=6)\n",
    "dates"
   ]
  },
  {
   "cell_type": "code",
   "execution_count": 93,
   "id": "9ea21d05",
   "metadata": {},
   "outputs": [
    {
     "data": {
      "text/html": [
       "<div>\n",
       "<style scoped>\n",
       "    .dataframe tbody tr th:only-of-type {\n",
       "        vertical-align: middle;\n",
       "    }\n",
       "\n",
       "    .dataframe tbody tr th {\n",
       "        vertical-align: top;\n",
       "    }\n",
       "\n",
       "    .dataframe thead th {\n",
       "        text-align: right;\n",
       "    }\n",
       "</style>\n",
       "<table border=\"1\" class=\"dataframe\">\n",
       "  <thead>\n",
       "    <tr style=\"text-align: right;\">\n",
       "      <th></th>\n",
       "      <th>A</th>\n",
       "      <th>B</th>\n",
       "      <th>C</th>\n",
       "      <th>D</th>\n",
       "    </tr>\n",
       "  </thead>\n",
       "  <tbody>\n",
       "    <tr>\n",
       "      <th>2020-11-27</th>\n",
       "      <td>0.279630</td>\n",
       "      <td>0.104162</td>\n",
       "      <td>0.585856</td>\n",
       "      <td>0.881266</td>\n",
       "    </tr>\n",
       "    <tr>\n",
       "      <th>2020-11-28</th>\n",
       "      <td>0.093147</td>\n",
       "      <td>0.314897</td>\n",
       "      <td>0.867012</td>\n",
       "      <td>0.482435</td>\n",
       "    </tr>\n",
       "    <tr>\n",
       "      <th>2020-11-29</th>\n",
       "      <td>0.284225</td>\n",
       "      <td>0.281333</td>\n",
       "      <td>0.112428</td>\n",
       "      <td>0.226839</td>\n",
       "    </tr>\n",
       "    <tr>\n",
       "      <th>2020-11-30</th>\n",
       "      <td>0.342760</td>\n",
       "      <td>0.211604</td>\n",
       "      <td>0.429439</td>\n",
       "      <td>0.514805</td>\n",
       "    </tr>\n",
       "    <tr>\n",
       "      <th>2020-12-01</th>\n",
       "      <td>0.307594</td>\n",
       "      <td>0.923725</td>\n",
       "      <td>0.177073</td>\n",
       "      <td>0.357767</td>\n",
       "    </tr>\n",
       "    <tr>\n",
       "      <th>2020-12-02</th>\n",
       "      <td>0.112103</td>\n",
       "      <td>0.526397</td>\n",
       "      <td>0.369634</td>\n",
       "      <td>0.004998</td>\n",
       "    </tr>\n",
       "  </tbody>\n",
       "</table>\n",
       "</div>"
      ],
      "text/plain": [
       "                   A         B         C         D\n",
       "2020-11-27  0.279630  0.104162  0.585856  0.881266\n",
       "2020-11-28  0.093147  0.314897  0.867012  0.482435\n",
       "2020-11-29  0.284225  0.281333  0.112428  0.226839\n",
       "2020-11-30  0.342760  0.211604  0.429439  0.514805\n",
       "2020-12-01  0.307594  0.923725  0.177073  0.357767\n",
       "2020-12-02  0.112103  0.526397  0.369634  0.004998"
      ]
     },
     "execution_count": 93,
     "metadata": {},
     "output_type": "execute_result"
    }
   ],
   "source": [
    "# 随机生成6行4列的随机数，索引号显示dates的日期，列名显示ABCD\n",
    "df = pd.DataFrame(np.random.rand(6,4),index=dates,columns=list(\"ABCD\"))\n",
    "df"
   ]
  },
  {
   "cell_type": "code",
   "execution_count": 94,
   "id": "b3e0842b",
   "metadata": {},
   "outputs": [
    {
     "data": {
      "text/html": [
       "<div>\n",
       "<style scoped>\n",
       "    .dataframe tbody tr th:only-of-type {\n",
       "        vertical-align: middle;\n",
       "    }\n",
       "\n",
       "    .dataframe tbody tr th {\n",
       "        vertical-align: top;\n",
       "    }\n",
       "\n",
       "    .dataframe thead th {\n",
       "        text-align: right;\n",
       "    }\n",
       "</style>\n",
       "<table border=\"1\" class=\"dataframe\">\n",
       "  <thead>\n",
       "    <tr style=\"text-align: right;\">\n",
       "      <th></th>\n",
       "      <th>2020-11-27</th>\n",
       "      <th>2020-11-28</th>\n",
       "      <th>2020-11-29</th>\n",
       "      <th>2020-11-30</th>\n",
       "      <th>2020-12-01</th>\n",
       "      <th>2020-12-02</th>\n",
       "    </tr>\n",
       "  </thead>\n",
       "  <tbody>\n",
       "    <tr>\n",
       "      <th>A</th>\n",
       "      <td>0.279630</td>\n",
       "      <td>0.093147</td>\n",
       "      <td>0.284225</td>\n",
       "      <td>0.342760</td>\n",
       "      <td>0.307594</td>\n",
       "      <td>0.112103</td>\n",
       "    </tr>\n",
       "    <tr>\n",
       "      <th>B</th>\n",
       "      <td>0.104162</td>\n",
       "      <td>0.314897</td>\n",
       "      <td>0.281333</td>\n",
       "      <td>0.211604</td>\n",
       "      <td>0.923725</td>\n",
       "      <td>0.526397</td>\n",
       "    </tr>\n",
       "    <tr>\n",
       "      <th>C</th>\n",
       "      <td>0.585856</td>\n",
       "      <td>0.867012</td>\n",
       "      <td>0.112428</td>\n",
       "      <td>0.429439</td>\n",
       "      <td>0.177073</td>\n",
       "      <td>0.369634</td>\n",
       "    </tr>\n",
       "    <tr>\n",
       "      <th>D</th>\n",
       "      <td>0.881266</td>\n",
       "      <td>0.482435</td>\n",
       "      <td>0.226839</td>\n",
       "      <td>0.514805</td>\n",
       "      <td>0.357767</td>\n",
       "      <td>0.004998</td>\n",
       "    </tr>\n",
       "  </tbody>\n",
       "</table>\n",
       "</div>"
      ],
      "text/plain": [
       "   2020-11-27  2020-11-28  2020-11-29  2020-11-30  2020-12-01  2020-12-02\n",
       "A    0.279630    0.093147    0.284225    0.342760    0.307594    0.112103\n",
       "B    0.104162    0.314897    0.281333    0.211604    0.923725    0.526397\n",
       "C    0.585856    0.867012    0.112428    0.429439    0.177073    0.369634\n",
       "D    0.881266    0.482435    0.226839    0.514805    0.357767    0.004998"
      ]
     },
     "execution_count": 94,
     "metadata": {},
     "output_type": "execute_result"
    }
   ],
   "source": [
    "# 转置，行列切换（与93对比一下）\n",
    "df.T"
   ]
  },
  {
   "cell_type": "code",
   "execution_count": 95,
   "id": "4f2a6930",
   "metadata": {},
   "outputs": [
    {
     "data": {
      "text/html": [
       "<div>\n",
       "<style scoped>\n",
       "    .dataframe tbody tr th:only-of-type {\n",
       "        vertical-align: middle;\n",
       "    }\n",
       "\n",
       "    .dataframe tbody tr th {\n",
       "        vertical-align: top;\n",
       "    }\n",
       "\n",
       "    .dataframe thead th {\n",
       "        text-align: right;\n",
       "    }\n",
       "</style>\n",
       "<table border=\"1\" class=\"dataframe\">\n",
       "  <thead>\n",
       "    <tr style=\"text-align: right;\">\n",
       "      <th></th>\n",
       "      <th>A</th>\n",
       "      <th>B</th>\n",
       "      <th>C</th>\n",
       "      <th>D</th>\n",
       "    </tr>\n",
       "  </thead>\n",
       "  <tbody>\n",
       "    <tr>\n",
       "      <th>2020-11-27</th>\n",
       "      <td>0.279630</td>\n",
       "      <td>0.104162</td>\n",
       "      <td>0.585856</td>\n",
       "      <td>0.881266</td>\n",
       "    </tr>\n",
       "    <tr>\n",
       "      <th>2020-11-28</th>\n",
       "      <td>0.093147</td>\n",
       "      <td>0.314897</td>\n",
       "      <td>0.867012</td>\n",
       "      <td>0.482435</td>\n",
       "    </tr>\n",
       "    <tr>\n",
       "      <th>2020-11-29</th>\n",
       "      <td>0.284225</td>\n",
       "      <td>0.281333</td>\n",
       "      <td>0.112428</td>\n",
       "      <td>0.226839</td>\n",
       "    </tr>\n",
       "  </tbody>\n",
       "</table>\n",
       "</div>"
      ],
      "text/plain": [
       "                   A         B         C         D\n",
       "2020-11-27  0.279630  0.104162  0.585856  0.881266\n",
       "2020-11-28  0.093147  0.314897  0.867012  0.482435\n",
       "2020-11-29  0.284225  0.281333  0.112428  0.226839"
      ]
     },
     "execution_count": 95,
     "metadata": {},
     "output_type": "execute_result"
    }
   ],
   "source": [
    "# 显示区间里的记录\n",
    "df[\"2020-11-27\":\"2020-11-29\"]"
   ]
  },
  {
   "cell_type": "code",
   "execution_count": 96,
   "id": "f806b98e",
   "metadata": {},
   "outputs": [
    {
     "data": {
      "text/html": [
       "<div>\n",
       "<style scoped>\n",
       "    .dataframe tbody tr th:only-of-type {\n",
       "        vertical-align: middle;\n",
       "    }\n",
       "\n",
       "    .dataframe tbody tr th {\n",
       "        vertical-align: top;\n",
       "    }\n",
       "\n",
       "    .dataframe thead th {\n",
       "        text-align: right;\n",
       "    }\n",
       "</style>\n",
       "<table border=\"1\" class=\"dataframe\">\n",
       "  <thead>\n",
       "    <tr style=\"text-align: right;\">\n",
       "      <th></th>\n",
       "      <th>A</th>\n",
       "      <th>B</th>\n",
       "    </tr>\n",
       "  </thead>\n",
       "  <tbody>\n",
       "    <tr>\n",
       "      <th>2020-11-27</th>\n",
       "      <td>0.279630</td>\n",
       "      <td>0.104162</td>\n",
       "    </tr>\n",
       "    <tr>\n",
       "      <th>2020-11-28</th>\n",
       "      <td>0.093147</td>\n",
       "      <td>0.314897</td>\n",
       "    </tr>\n",
       "    <tr>\n",
       "      <th>2020-11-29</th>\n",
       "      <td>0.284225</td>\n",
       "      <td>0.281333</td>\n",
       "    </tr>\n",
       "  </tbody>\n",
       "</table>\n",
       "</div>"
      ],
      "text/plain": [
       "                   A         B\n",
       "2020-11-27  0.279630  0.104162\n",
       "2020-11-28  0.093147  0.314897\n",
       "2020-11-29  0.284225  0.281333"
      ]
     },
     "execution_count": 96,
     "metadata": {},
     "output_type": "execute_result"
    }
   ],
   "source": [
    "# 对列进行筛选\n",
    "df.loc[\"2020-11-27\":\"2020-11-29\",[\"A\",\"B\"]]"
   ]
  },
  {
   "cell_type": "code",
   "execution_count": 97,
   "id": "c808ffd9",
   "metadata": {},
   "outputs": [
    {
     "data": {
      "text/plain": [
       "0.2796300210858449"
      ]
     },
     "execution_count": 97,
     "metadata": {},
     "output_type": "execute_result"
    }
   ],
   "source": [
    "# at对行列值的选择\n",
    "df.at[dates[0],\"A\"]"
   ]
  },
  {
   "cell_type": "code",
   "execution_count": 100,
   "id": "ba252a7f",
   "metadata": {},
   "outputs": [
    {
     "data": {
      "text/plain": [
       "0.3148965678468616"
      ]
     },
     "execution_count": 100,
     "metadata": {},
     "output_type": "execute_result"
    }
   ],
   "source": [
    "df.at[dates[1],\"B\"]"
   ]
  },
  {
   "cell_type": "code",
   "execution_count": 101,
   "id": "0387fb23",
   "metadata": {},
   "outputs": [
    {
     "data": {
      "text/html": [
       "<div>\n",
       "<style scoped>\n",
       "    .dataframe tbody tr th:only-of-type {\n",
       "        vertical-align: middle;\n",
       "    }\n",
       "\n",
       "    .dataframe tbody tr th {\n",
       "        vertical-align: top;\n",
       "    }\n",
       "\n",
       "    .dataframe thead th {\n",
       "        text-align: right;\n",
       "    }\n",
       "</style>\n",
       "<table border=\"1\" class=\"dataframe\">\n",
       "  <thead>\n",
       "    <tr style=\"text-align: right;\">\n",
       "      <th></th>\n",
       "      <th>A</th>\n",
       "      <th>B</th>\n",
       "      <th>C</th>\n",
       "      <th>D</th>\n",
       "    </tr>\n",
       "  </thead>\n",
       "  <tbody>\n",
       "    <tr>\n",
       "      <th>2020-11-27</th>\n",
       "      <td>0.279630</td>\n",
       "      <td>0.104162</td>\n",
       "      <td>0.585856</td>\n",
       "      <td>0.881266</td>\n",
       "    </tr>\n",
       "    <tr>\n",
       "      <th>2020-11-28</th>\n",
       "      <td>0.093147</td>\n",
       "      <td>0.314897</td>\n",
       "      <td>0.867012</td>\n",
       "      <td>0.482435</td>\n",
       "    </tr>\n",
       "  </tbody>\n",
       "</table>\n",
       "</div>"
      ],
      "text/plain": [
       "                   A         B         C         D\n",
       "2020-11-27  0.279630  0.104162  0.585856  0.881266\n",
       "2020-11-28  0.093147  0.314897  0.867012  0.482435"
      ]
     },
     "execution_count": 101,
     "metadata": {},
     "output_type": "execute_result"
    }
   ],
   "source": [
    "# 显示头部N条记录\n",
    "df.head(2)"
   ]
  },
  {
   "cell_type": "code",
   "execution_count": 102,
   "id": "b838d9e8",
   "metadata": {},
   "outputs": [
    {
     "data": {
      "text/html": [
       "<div>\n",
       "<style scoped>\n",
       "    .dataframe tbody tr th:only-of-type {\n",
       "        vertical-align: middle;\n",
       "    }\n",
       "\n",
       "    .dataframe tbody tr th {\n",
       "        vertical-align: top;\n",
       "    }\n",
       "\n",
       "    .dataframe thead th {\n",
       "        text-align: right;\n",
       "    }\n",
       "</style>\n",
       "<table border=\"1\" class=\"dataframe\">\n",
       "  <thead>\n",
       "    <tr style=\"text-align: right;\">\n",
       "      <th></th>\n",
       "      <th>A</th>\n",
       "      <th>B</th>\n",
       "      <th>C</th>\n",
       "      <th>D</th>\n",
       "    </tr>\n",
       "  </thead>\n",
       "  <tbody>\n",
       "    <tr>\n",
       "      <th>2020-11-30</th>\n",
       "      <td>0.342760</td>\n",
       "      <td>0.211604</td>\n",
       "      <td>0.429439</td>\n",
       "      <td>0.514805</td>\n",
       "    </tr>\n",
       "    <tr>\n",
       "      <th>2020-12-01</th>\n",
       "      <td>0.307594</td>\n",
       "      <td>0.923725</td>\n",
       "      <td>0.177073</td>\n",
       "      <td>0.357767</td>\n",
       "    </tr>\n",
       "    <tr>\n",
       "      <th>2020-12-02</th>\n",
       "      <td>0.112103</td>\n",
       "      <td>0.526397</td>\n",
       "      <td>0.369634</td>\n",
       "      <td>0.004998</td>\n",
       "    </tr>\n",
       "  </tbody>\n",
       "</table>\n",
       "</div>"
      ],
      "text/plain": [
       "                   A         B         C         D\n",
       "2020-11-30  0.342760  0.211604  0.429439  0.514805\n",
       "2020-12-01  0.307594  0.923725  0.177073  0.357767\n",
       "2020-12-02  0.112103  0.526397  0.369634  0.004998"
      ]
     },
     "execution_count": 102,
     "metadata": {},
     "output_type": "execute_result"
    }
   ],
   "source": [
    "# 显示尾部N条记录\n",
    "df.tail(3)"
   ]
  },
  {
   "cell_type": "code",
   "execution_count": 24,
   "id": "dba116fc",
   "metadata": {},
   "outputs": [
    {
     "data": {
      "text/plain": [
       "a    4.5\n",
       "b    9.4\n",
       "c   -2.3\n",
       "dtype: float64"
      ]
     },
     "execution_count": 24,
     "metadata": {},
     "output_type": "execute_result"
    }
   ],
   "source": [
    "# pandas 重新索引\n",
    "obj = pd.Series([4.5,9.4,-2.3],index=[\"a\",\"b\",\"c\"])\n",
    "obj"
   ]
  },
  {
   "cell_type": "code",
   "execution_count": 107,
   "id": "05210eca",
   "metadata": {},
   "outputs": [
    {
     "data": {
      "text/plain": [
       "a    4.5\n",
       "b    9.4\n",
       "c   -2.3\n",
       "d    NaN\n",
       "e    NaN\n",
       "dtype: float64"
      ]
     },
     "execution_count": 107,
     "metadata": {},
     "output_type": "execute_result"
    }
   ],
   "source": [
    "# NaN表示空，表示某个索引不存在，缺省值NaN\n",
    "obj_1 = obj.reindex([\"a\",\"b\",\"c\",\"d\",\"e\"])\n",
    "obj_1"
   ]
  },
  {
   "cell_type": "code",
   "execution_count": 25,
   "id": "d84343f5",
   "metadata": {},
   "outputs": [
    {
     "data": {
      "text/plain": [
       "a    4.5\n",
       "b    9.4\n",
       "c   -2.3\n",
       "d    0.0\n",
       "e    0.0\n",
       "dtype: float64"
      ]
     },
     "execution_count": 25,
     "metadata": {},
     "output_type": "execute_result"
    }
   ],
   "source": [
    "# 对缺省值设置默认值，如0\n",
    "obj_1 = obj.reindex([\"a\",\"b\",\"c\",\"d\",\"e\"], fill_value=0)\n",
    "obj_1"
   ]
  },
  {
   "cell_type": "code",
   "execution_count": 39,
   "id": "5f039431",
   "metadata": {},
   "outputs": [
    {
     "data": {
      "text/html": [
       "<div>\n",
       "<style scoped>\n",
       "    .dataframe tbody tr th:only-of-type {\n",
       "        vertical-align: middle;\n",
       "    }\n",
       "\n",
       "    .dataframe tbody tr th {\n",
       "        vertical-align: top;\n",
       "    }\n",
       "\n",
       "    .dataframe thead th {\n",
       "        text-align: right;\n",
       "    }\n",
       "</style>\n",
       "<table border=\"1\" class=\"dataframe\">\n",
       "  <thead>\n",
       "    <tr style=\"text-align: right;\">\n",
       "      <th></th>\n",
       "      <th>attachCode</th>\n",
       "      <th>name</th>\n",
       "      <th>level</th>\n",
       "    </tr>\n",
       "    <tr>\n",
       "      <th>mainCode</th>\n",
       "      <th></th>\n",
       "      <th></th>\n",
       "      <th></th>\n",
       "    </tr>\n",
       "  </thead>\n",
       "  <tbody>\n",
       "    <tr>\n",
       "      <th>A00.000</th>\n",
       "      <td>NaN</td>\n",
       "      <td>éœä¹±ï¼Œç”±äºŽO1ç¾¤éœä¹±å¼§èŒï¼Œéœä¹±ç”Ÿç‰...</td>\n",
       "      <td>NaN</td>\n",
       "    </tr>\n",
       "    <tr>\n",
       "      <th>A00.100</th>\n",
       "      <td>NaN</td>\n",
       "      <td>éœä¹±ï¼Œç”±äºŽO1ç¾¤éœä¹±å¼§èŒï¼ŒåŸƒå°”æ‰˜ç”...</td>\n",
       "      <td>NaN</td>\n",
       "    </tr>\n",
       "    <tr>\n",
       "      <th>A00.900</th>\n",
       "      <td>NaN</td>\n",
       "      <td>éœä¹±</td>\n",
       "      <td>5</td>\n",
       "    </tr>\n",
       "    <tr>\n",
       "      <th>A01.000</th>\n",
       "      <td>NaN</td>\n",
       "      <td>ä¼¤å¯’</td>\n",
       "      <td>5</td>\n",
       "    </tr>\n",
       "    <tr>\n",
       "      <th>A01.001+</th>\n",
       "      <td>K77.0*</td>\n",
       "      <td>ä¼¤å¯’æ€§è‚ç‚?5</td>\n",
       "      <td>NaN</td>\n",
       "    </tr>\n",
       "  </tbody>\n",
       "</table>\n",
       "</div>"
      ],
      "text/plain": [
       "           attachCode                                               name   \\\n",
       "mainCode                                                                    \n",
       "A00.000            NaN  éœä¹±ï¼Œç”±äºŽO1ç¾¤éœä¹±å¼§èŒï¼Œéœä¹±ç”Ÿç‰...   \n",
       "A00.100            NaN  éœä¹±ï¼Œç”±äºŽO1ç¾¤éœä¹±å¼§èŒï¼ŒåŸƒå°”æ‰˜ç”...   \n",
       "A00.900            NaN                                             éœä¹±   \n",
       "A01.000            NaN                                             ä¼¤å¯’   \n",
       "A01.001+        K77.0*                                   ä¼¤å¯’æ€§è‚ç‚?5   \n",
       "\n",
       "          level  \n",
       "mainCode         \n",
       "A00.000     NaN  \n",
       "A00.100     NaN  \n",
       "A00.900       5  \n",
       "A01.000       5  \n",
       "A01.001+    NaN  "
      ]
     },
     "execution_count": 39,
     "metadata": {},
     "output_type": "execute_result"
    }
   ],
   "source": [
    "# 旅游网站数据清洗实战\n",
    "df = pd.read_csv(\"icd.csv\",index_col=0)   # 去掉索引\n",
    "df.head()"
   ]
  },
  {
   "cell_type": "code",
   "execution_count": 28,
   "id": "328ec0be",
   "metadata": {},
   "outputs": [
    {
     "data": {
      "text/plain": [
       "(2, 5)"
      ]
     },
     "execution_count": 28,
     "metadata": {},
     "output_type": "execute_result"
    }
   ],
   "source": [
    "df.shape"
   ]
  },
  {
   "cell_type": "code",
   "execution_count": 126,
   "id": "3586e75a",
   "metadata": {},
   "outputs": [
    {
     "name": "stdout",
     "output_type": "stream",
     "text": [
      "<class 'pandas.core.frame.DataFrame'>\n",
      "Index: 23088 entries, A00.000 to I15.9\n",
      "Data columns (total 3 columns):\n",
      " #   Column      Non-Null Count  Dtype \n",
      "---  ------      --------------  ----- \n",
      " 0   attachCode  3116 non-null   object\n",
      " 1   name        23088 non-null  object\n",
      " 2   level       10699 non-null  object\n",
      "dtypes: object(3)\n",
      "memory usage: 721.5+ KB\n"
     ]
    }
   ],
   "source": [
    "df.info()"
   ]
  },
  {
   "cell_type": "code",
   "execution_count": 136,
   "id": "f1534ade",
   "metadata": {},
   "outputs": [
    {
     "data": {
      "text/html": [
       "<div>\n",
       "<style scoped>\n",
       "    .dataframe tbody tr th:only-of-type {\n",
       "        vertical-align: middle;\n",
       "    }\n",
       "\n",
       "    .dataframe tbody tr th {\n",
       "        vertical-align: top;\n",
       "    }\n",
       "\n",
       "    .dataframe thead th {\n",
       "        text-align: right;\n",
       "    }\n",
       "</style>\n",
       "<table border=\"1\" class=\"dataframe\">\n",
       "  <thead>\n",
       "    <tr style=\"text-align: right;\">\n",
       "      <th></th>\n",
       "      <th>attachCode</th>\n",
       "      <th>name</th>\n",
       "      <th>level</th>\n",
       "    </tr>\n",
       "  </thead>\n",
       "  <tbody>\n",
       "    <tr>\n",
       "      <th>count</th>\n",
       "      <td>3116</td>\n",
       "      <td>23088</td>\n",
       "      <td>10699</td>\n",
       "    </tr>\n",
       "    <tr>\n",
       "      <th>unique</th>\n",
       "      <td>2622</td>\n",
       "      <td>22725</td>\n",
       "      <td>34</td>\n",
       "    </tr>\n",
       "    <tr>\n",
       "      <th>top</th>\n",
       "      <td>G99.2*</td>\n",
       "      <td>恶性淋巴瘤</td>\n",
       "      <td>5</td>\n",
       "    </tr>\n",
       "    <tr>\n",
       "      <th>freq</th>\n",
       "      <td>18</td>\n",
       "      <td>13</td>\n",
       "      <td>10628</td>\n",
       "    </tr>\n",
       "  </tbody>\n",
       "</table>\n",
       "</div>"
      ],
      "text/plain": [
       "       attachCode   name  level\n",
       "count        3116  23088  10699\n",
       "unique       2622  22725     34\n",
       "top        G99.2*  恶性淋巴瘤      5\n",
       "freq           18     13  10628"
      ]
     },
     "execution_count": 136,
     "metadata": {},
     "output_type": "execute_result"
    }
   ],
   "source": [
    "df.describe()"
   ]
  },
  {
   "cell_type": "code",
   "execution_count": 140,
   "id": "e7527133",
   "metadata": {},
   "outputs": [
    {
     "data": {
      "text/plain": [
       "Index([' attachCode ', ' name ', 'level'], dtype='object')"
      ]
     },
     "execution_count": 140,
     "metadata": {},
     "output_type": "execute_result"
    }
   ],
   "source": [
    "# 把所有的列列出来\n",
    "# 注意部分列名前后有多余的空格\n",
    "df.columns"
   ]
  },
  {
   "cell_type": "code",
   "execution_count": 141,
   "id": "00c4fbfe",
   "metadata": {},
   "outputs": [
    {
     "data": {
      "text/plain": [
       "array([' attachCode ', ' name ', 'level'], dtype=object)"
      ]
     },
     "execution_count": 141,
     "metadata": {},
     "output_type": "execute_result"
    }
   ],
   "source": [
    "df.columns.values"
   ]
  },
  {
   "cell_type": "code",
   "execution_count": 29,
   "id": "5275da51",
   "metadata": {},
   "outputs": [
    {
     "data": {
      "text/plain": [
       "'b'"
      ]
     },
     "execution_count": 29,
     "metadata": {},
     "output_type": "execute_result"
    }
   ],
   "source": [
    "col = df.columns.values\n",
    "col[0].strip()"
   ]
  },
  {
   "cell_type": "code",
   "execution_count": 30,
   "id": "1270e1db",
   "metadata": {},
   "outputs": [
    {
     "data": {
      "text/plain": [
       "array(['b', 'c', 'd', 'e', 'f'], dtype=object)"
      ]
     },
     "execution_count": 30,
     "metadata": {},
     "output_type": "execute_result"
    }
   ],
   "source": [
    "# 批量清除列名前后空格\n",
    "df.columns = [x.strip() for x in col]\n",
    "df.columns.values"
   ]
  },
  {
   "cell_type": "code",
   "execution_count": 40,
   "id": "7b05ef4a",
   "metadata": {},
   "outputs": [
    {
     "data": {
      "text/plain": [
       "mainCode \n",
       "A00.000     False\n",
       "A00.100     False\n",
       "A00.900     False\n",
       "A01.000     False\n",
       "A01.001+    False\n",
       "            ...  \n",
       "I15.0       False\n",
       "I15.1       False\n",
       "I15.2       False\n",
       "I15.8       False\n",
       "I15.9       False\n",
       "Length: 23088, dtype: bool"
      ]
     },
     "execution_count": 40,
     "metadata": {},
     "output_type": "execute_result"
    }
   ],
   "source": [
    "# 统计重复值，true表示重复\n",
    "df.duplicated()"
   ]
  },
  {
   "cell_type": "code",
   "execution_count": 41,
   "id": "53b4e20e",
   "metadata": {},
   "outputs": [
    {
     "data": {
      "text/plain": [
       "28"
      ]
     },
     "execution_count": 41,
     "metadata": {},
     "output_type": "execute_result"
    }
   ],
   "source": [
    "# 统计重复值的数量\n",
    "df.duplicated().sum()"
   ]
  },
  {
   "cell_type": "code",
   "execution_count": 42,
   "id": "71fe89ad",
   "metadata": {},
   "outputs": [
    {
     "data": {
      "text/html": [
       "<div>\n",
       "<style scoped>\n",
       "    .dataframe tbody tr th:only-of-type {\n",
       "        vertical-align: middle;\n",
       "    }\n",
       "\n",
       "    .dataframe tbody tr th {\n",
       "        vertical-align: top;\n",
       "    }\n",
       "\n",
       "    .dataframe thead th {\n",
       "        text-align: right;\n",
       "    }\n",
       "</style>\n",
       "<table border=\"1\" class=\"dataframe\">\n",
       "  <thead>\n",
       "    <tr style=\"text-align: right;\">\n",
       "      <th></th>\n",
       "      <th>attachCode</th>\n",
       "      <th>name</th>\n",
       "      <th>level</th>\n",
       "    </tr>\n",
       "    <tr>\n",
       "      <th>mainCode</th>\n",
       "      <th></th>\n",
       "      <th></th>\n",
       "      <th></th>\n",
       "    </tr>\n",
       "  </thead>\n",
       "  <tbody>\n",
       "    <tr>\n",
       "      <th>B16.205</th>\n",
       "      <td>NaN</td>\n",
       "      <td>äºšæ€¥æ€§é‡åž‹ä¹™åž‹ç—…æ¯’æ€§è‚ç‚Žä¼´è‚æ˜è¿?5</td>\n",
       "      <td>NaN</td>\n",
       "    </tr>\n",
       "    <tr>\n",
       "      <th>T94.101</th>\n",
       "      <td>NaN</td>\n",
       "      <td>é™ˆæ—§æ€§å¤šéƒ¨ä½éª¨æŠ˜</td>\n",
       "      <td>5</td>\n",
       "    </tr>\n",
       "    <tr>\n",
       "      <th>Q93.400</th>\n",
       "      <td>NaN</td>\n",
       "      <td>æŸ“è‰²ä½?çŸ­è‡‚ç¼ºå¤±</td>\n",
       "      <td>5</td>\n",
       "    </tr>\n",
       "    <tr>\n",
       "      <th>J39.225</th>\n",
       "      <td>NaN</td>\n",
       "      <td>é¼»å’½æ·‹å·´ç»„ç»‡å¢žç”Ÿ</td>\n",
       "      <td>5</td>\n",
       "    </tr>\n",
       "    <tr>\n",
       "      <th>K46.900</th>\n",
       "      <td>NaN</td>\n",
       "      <td>è…¹ç–ï¼Œä¸ä¼´æœ‰æ¢—é˜»æˆ–åç–?5</td>\n",
       "      <td>NaN</td>\n",
       "    </tr>\n",
       "    <tr>\n",
       "      <th>K83.820</th>\n",
       "      <td>NaN</td>\n",
       "      <td>èƒ?å¿ƒç»¼åˆå¾</td>\n",
       "      <td>5</td>\n",
       "    </tr>\n",
       "    <tr>\n",
       "      <th>K86.818</th>\n",
       "      <td>NaN</td>\n",
       "      <td>èƒ?å¿ƒç»¼åˆå¾</td>\n",
       "      <td>5</td>\n",
       "    </tr>\n",
       "    <tr>\n",
       "      <th>G95.900</th>\n",
       "      <td>NaN</td>\n",
       "      <td>è„Šé«“ç—?5</td>\n",
       "      <td>NaN</td>\n",
       "    </tr>\n",
       "    <tr>\n",
       "      <th>I10.x04</th>\n",
       "      <td>NaN</td>\n",
       "      <td>é«˜è¡€åŽ?çº?5</td>\n",
       "      <td>NaN</td>\n",
       "    </tr>\n",
       "    <tr>\n",
       "      <th>I10.x05</th>\n",
       "      <td>NaN</td>\n",
       "      <td>é«˜è¡€åŽ?çº?5</td>\n",
       "      <td>NaN</td>\n",
       "    </tr>\n",
       "    <tr>\n",
       "      <th>I10.x11</th>\n",
       "      <td>NaN</td>\n",
       "      <td>å•çº¯æ”¶ç¼©æœŸé«˜è¡€åŽ?5</td>\n",
       "      <td>NaN</td>\n",
       "    </tr>\n",
       "    <tr>\n",
       "      <th>I45.803</th>\n",
       "      <td>NaN</td>\n",
       "      <td>é•¿QTç»¼åˆå¾?5</td>\n",
       "      <td>NaN</td>\n",
       "    </tr>\n",
       "    <tr>\n",
       "      <th>I77.201</th>\n",
       "      <td>NaN</td>\n",
       "      <td>åŠ¨è„‰ç˜?5</td>\n",
       "      <td>NaN</td>\n",
       "    </tr>\n",
       "    <tr>\n",
       "      <th>M22.900</th>\n",
       "      <td>NaN</td>\n",
       "      <td>é«Œéª¨ç–¾æ‚£</td>\n",
       "      <td>5</td>\n",
       "    </tr>\n",
       "    <tr>\n",
       "      <th>M25.500</th>\n",
       "      <td>NaN</td>\n",
       "      <td>å…³èŠ‚ç—?5</td>\n",
       "      <td>NaN</td>\n",
       "    </tr>\n",
       "    <tr>\n",
       "      <th>M43.009</th>\n",
       "      <td>NaN</td>\n",
       "      <td>è…°æ¤Žå³¡éƒ¨è£?5</td>\n",
       "      <td>NaN</td>\n",
       "    </tr>\n",
       "    <tr>\n",
       "      <th>M53.213</th>\n",
       "      <td>NaN</td>\n",
       "      <td>è…°æ¤Žå°å…³èŠ‚ç´Šä¹?5</td>\n",
       "      <td>NaN</td>\n",
       "    </tr>\n",
       "    <tr>\n",
       "      <th>G58.001</th>\n",
       "      <td>NaN</td>\n",
       "      <td>è‚‹é—´ç¥žç»ç—?5</td>\n",
       "      <td>NaN</td>\n",
       "    </tr>\n",
       "    <tr>\n",
       "      <th>G80.306</th>\n",
       "      <td>NaN</td>\n",
       "      <td>æ‰‹è¶³å¾åŠ¨ç—?5</td>\n",
       "      <td>NaN</td>\n",
       "    </tr>\n",
       "    <tr>\n",
       "      <th>Q44.601</th>\n",
       "      <td>NaN</td>\n",
       "      <td>å¤šå›Šè‚?5</td>\n",
       "      <td>NaN</td>\n",
       "    </tr>\n",
       "    <tr>\n",
       "      <th>Q61.300</th>\n",
       "      <td>NaN</td>\n",
       "      <td>å¤šå›Šè‚?5</td>\n",
       "      <td>NaN</td>\n",
       "    </tr>\n",
       "    <tr>\n",
       "      <th>C96.706</th>\n",
       "      <td>NaN</td>\n",
       "      <td>è‚¥å¤§ç»†èƒžç™½è¡€ç—?5</td>\n",
       "      <td>NaN</td>\n",
       "    </tr>\n",
       "    <tr>\n",
       "      <th>O36.201</th>\n",
       "      <td>NaN</td>\n",
       "      <td>èƒŽå„¿æ°´è‚¿</td>\n",
       "      <td>5</td>\n",
       "    </tr>\n",
       "    <tr>\n",
       "      <th>O43.807</th>\n",
       "      <td>NaN</td>\n",
       "      <td>èƒŽç›˜å›Šè‚¿</td>\n",
       "      <td>5</td>\n",
       "    </tr>\n",
       "    <tr>\n",
       "      <th>NaN</th>\n",
       "      <td>M96590/3</td>\n",
       "      <td>ç»“èŠ‚æ€§æ·‹å·´ç»†èƒžä¸ºä¸»åž‹éœå¥‡é‡‘ç—…</td>\n",
       "      <td>5</td>\n",
       "    </tr>\n",
       "    <tr>\n",
       "      <th>NaN</th>\n",
       "      <td>H06.2*</td>\n",
       "      <td>ç”²çŠ¶è…ºåŠŸèƒ½éšœç¢æ€§çªçœ?5</td>\n",
       "      <td>NaN</td>\n",
       "    </tr>\n",
       "    <tr>\n",
       "      <th>NaN</th>\n",
       "      <td>K67.1*</td>\n",
       "      <td>æ·‹çƒèŒæ€§è…¹è†œç‚Ž</td>\n",
       "      <td>5</td>\n",
       "    </tr>\n",
       "    <tr>\n",
       "      <th>NaN</th>\n",
       "      <td>M81600/3</td>\n",
       "      <td>èƒ†ç®¡ç™?5</td>\n",
       "      <td>NaN</td>\n",
       "    </tr>\n",
       "  </tbody>\n",
       "</table>\n",
       "</div>"
      ],
      "text/plain": [
       "           attachCode                                               name   \\\n",
       "mainCode                                                                    \n",
       "B16.205            NaN  äºšæ€¥æ€§é‡åž‹ä¹™åž‹ç—…æ¯’æ€§è‚ç‚Žä¼´è‚æ˜è¿?5   \n",
       "T94.101            NaN                           é™ˆæ—§æ€§å¤šéƒ¨ä½éª¨æŠ˜   \n",
       "Q93.400            NaN                              æŸ“è‰²ä½?çŸ­è‡‚ç¼ºå¤±   \n",
       "J39.225            NaN                           é¼»å’½æ·‹å·´ç»„ç»‡å¢žç”Ÿ   \n",
       "K46.900            NaN                 è…¹ç–ï¼Œä¸ä¼´æœ‰æ¢—é˜»æˆ–åç–?5   \n",
       "K83.820            NaN                                    èƒ?å¿ƒç»¼åˆå¾   \n",
       "K86.818            NaN                                    èƒ?å¿ƒç»¼åˆå¾   \n",
       "G95.900            NaN                                         è„Šé«“ç—?5   \n",
       "I10.x04            NaN                                      é«˜è¡€åŽ?çº?5   \n",
       "I10.x05            NaN                                      é«˜è¡€åŽ?çº?5   \n",
       "I10.x11            NaN                          å•çº¯æ”¶ç¼©æœŸé«˜è¡€åŽ?5   \n",
       "I45.803            NaN                                    é•¿QTç»¼åˆå¾?5   \n",
       "I77.201            NaN                                         åŠ¨è„‰ç˜?5   \n",
       "M22.900            NaN                                       é«Œéª¨ç–¾æ‚£   \n",
       "M25.500            NaN                                         å…³èŠ‚ç—?5   \n",
       "M43.009            NaN                                   è…°æ¤Žå³¡éƒ¨è£?5   \n",
       "M53.213            NaN                             è…°æ¤Žå°å…³èŠ‚ç´Šä¹?5   \n",
       "G58.001            NaN                                   è‚‹é—´ç¥žç»ç—?5   \n",
       "G80.306            NaN                                   æ‰‹è¶³å¾åŠ¨ç—?5   \n",
       "Q44.601            NaN                                         å¤šå›Šè‚?5   \n",
       "Q61.300            NaN                                         å¤šå›Šè‚?5   \n",
       "C96.706            NaN                             è‚¥å¤§ç»†èƒžç™½è¡€ç—?5   \n",
       "O36.201            NaN                                       èƒŽå„¿æ°´è‚¿   \n",
       "O43.807            NaN                                       èƒŽç›˜å›Šè‚¿   \n",
       "NaN           M96590/3         ç»“èŠ‚æ€§æ·‹å·´ç»†èƒžä¸ºä¸»åž‹éœå¥‡é‡‘ç—…   \n",
       "NaN             H06.2*                    ç”²çŠ¶è…ºåŠŸèƒ½éšœç¢æ€§çªçœ?5   \n",
       "NaN             K67.1*                              æ·‹çƒèŒæ€§è…¹è†œç‚Ž   \n",
       "NaN           M81600/3                                         èƒ†ç®¡ç™?5   \n",
       "\n",
       "          level  \n",
       "mainCode         \n",
       "B16.205     NaN  \n",
       "T94.101       5  \n",
       "Q93.400       5  \n",
       "J39.225       5  \n",
       "K46.900     NaN  \n",
       "K83.820       5  \n",
       "K86.818       5  \n",
       "G95.900     NaN  \n",
       "I10.x04     NaN  \n",
       "I10.x05     NaN  \n",
       "I10.x11     NaN  \n",
       "I45.803     NaN  \n",
       "I77.201     NaN  \n",
       "M22.900       5  \n",
       "M25.500     NaN  \n",
       "M43.009     NaN  \n",
       "M53.213     NaN  \n",
       "G58.001     NaN  \n",
       "G80.306     NaN  \n",
       "Q44.601     NaN  \n",
       "Q61.300     NaN  \n",
       "C96.706     NaN  \n",
       "O36.201       5  \n",
       "O43.807       5  \n",
       "NaN           5  \n",
       "NaN         NaN  \n",
       "NaN           5  \n",
       "NaN         NaN  "
      ]
     },
     "execution_count": 42,
     "metadata": {},
     "output_type": "execute_result"
    }
   ],
   "source": [
    "# 显示重复的记录\n",
    "df[df.duplicated()]"
   ]
  },
  {
   "cell_type": "code",
   "execution_count": 50,
   "id": "e279d89a",
   "metadata": {},
   "outputs": [],
   "source": [
    "# 删除重复数据（上次记录数量 Length: 23088, dtype: bool） - 重复28条， 应该是 23060\n",
    "# df.drop_duplicates()  # 显示重复待删除的记录\n",
    "df.drop_duplicates(inplace=True)  # 执行删除操作（不显示记录）"
   ]
  },
  {
   "cell_type": "code",
   "execution_count": 61,
   "id": "79ef628d",
   "metadata": {},
   "outputs": [
    {
     "data": {
      "text/plain": [
       "0"
      ]
     },
     "execution_count": 61,
     "metadata": {},
     "output_type": "execute_result"
    }
   ],
   "source": [
    "df.duplicated().sum()"
   ]
  },
  {
   "cell_type": "code",
   "execution_count": 62,
   "id": "50e1e72f",
   "metadata": {},
   "outputs": [
    {
     "data": {
      "text/plain": [
       "(23060, 3)"
      ]
     },
     "execution_count": 62,
     "metadata": {},
     "output_type": "execute_result"
    }
   ],
   "source": [
    "df.shape"
   ]
  },
  {
   "cell_type": "code",
   "execution_count": 63,
   "id": "100fc5bb",
   "metadata": {},
   "outputs": [
    {
     "data": {
      "text/plain": [
       "RangeIndex(start=0, stop=23060, step=1)"
      ]
     },
     "execution_count": 63,
     "metadata": {},
     "output_type": "execute_result"
    }
   ],
   "source": [
    "# 删除重复记录后，index则变成不连续\n",
    "df.index"
   ]
  },
  {
   "cell_type": "code",
   "execution_count": 59,
   "id": "480c6bd7",
   "metadata": {},
   "outputs": [],
   "source": [
    "# 重新让index连续\n",
    "df.index=range(df.shape[0])"
   ]
  },
  {
   "cell_type": "code",
   "execution_count": 64,
   "id": "385066ab",
   "metadata": {},
   "outputs": [
    {
     "data": {
      "text/plain": [
       "RangeIndex(start=0, stop=23060, step=1)"
      ]
     },
     "execution_count": 64,
     "metadata": {},
     "output_type": "execute_result"
    }
   ],
   "source": [
    "df.index"
   ]
  },
  {
   "cell_type": "code",
   "execution_count": 155,
   "id": "501c2d76",
   "metadata": {},
   "outputs": [
    {
     "data": {
      "text/html": [
       "<div>\n",
       "<style scoped>\n",
       "    .dataframe tbody tr th:only-of-type {\n",
       "        vertical-align: middle;\n",
       "    }\n",
       "\n",
       "    .dataframe tbody tr th {\n",
       "        vertical-align: top;\n",
       "    }\n",
       "\n",
       "    .dataframe thead th {\n",
       "        text-align: right;\n",
       "    }\n",
       "</style>\n",
       "<table border=\"1\" class=\"dataframe\">\n",
       "  <thead>\n",
       "    <tr style=\"text-align: right;\">\n",
       "      <th></th>\n",
       "      <th>出发地</th>\n",
       "      <th>目的地</th>\n",
       "      <th>价格</th>\n",
       "      <th>节省</th>\n",
       "    </tr>\n",
       "  </thead>\n",
       "  <tbody>\n",
       "    <tr>\n",
       "      <th>0</th>\n",
       "      <td>上海</td>\n",
       "      <td>纽约</td>\n",
       "      <td>47000.0</td>\n",
       "      <td>500</td>\n",
       "    </tr>\n",
       "    <tr>\n",
       "      <th>1</th>\n",
       "      <td>北京</td>\n",
       "      <td>天津</td>\n",
       "      <td>300.0</td>\n",
       "      <td>7000</td>\n",
       "    </tr>\n",
       "    <tr>\n",
       "      <th>2</th>\n",
       "      <td>沈阳</td>\n",
       "      <td>青岛</td>\n",
       "      <td>1200.0</td>\n",
       "      <td>200</td>\n",
       "    </tr>\n",
       "    <tr>\n",
       "      <th>3</th>\n",
       "      <td>乌鲁木齐</td>\n",
       "      <td>拉萨</td>\n",
       "      <td>500.0</td>\n",
       "      <td>1200</td>\n",
       "    </tr>\n",
       "    <tr>\n",
       "      <th>4</th>\n",
       "      <td>江苏</td>\n",
       "      <td>四川</td>\n",
       "      <td>1500.0</td>\n",
       "      <td>200</td>\n",
       "    </tr>\n",
       "    <tr>\n",
       "      <th>5</th>\n",
       "      <td>南京</td>\n",
       "      <td>广州</td>\n",
       "      <td>1600.0</td>\n",
       "      <td>9000</td>\n",
       "    </tr>\n",
       "    <tr>\n",
       "      <th>6</th>\n",
       "      <td>杭州</td>\n",
       "      <td>西安</td>\n",
       "      <td>NaN</td>\n",
       "      <td>500</td>\n",
       "    </tr>\n",
       "  </tbody>\n",
       "</table>\n",
       "</div>"
      ],
      "text/plain": [
       "    出发地 目的地       价格    节省\n",
       "0    上海  纽约  47000.0   500\n",
       "1    北京  天津    300.0  7000\n",
       "2    沈阳  青岛   1200.0   200\n",
       "3  乌鲁木齐  拉萨    500.0  1200\n",
       "4    江苏  四川   1500.0   200\n",
       "5    南京  广州   1600.0  9000\n",
       "6    杭州  西安      NaN   500"
      ]
     },
     "execution_count": 155,
     "metadata": {},
     "output_type": "execute_result"
    }
   ],
   "source": [
    "# 处理异常值\n",
    "# 旅游网站数据清洗实战\n",
    "# df = pd.read_csv(\"tr.csv\",index_col=0)   # 去掉索引\n",
    "df = pd.read_csv(\"tr.csv\")  \n",
    "df\n"
   ]
  },
  {
   "cell_type": "code",
   "execution_count": 156,
   "id": "3e694071",
   "metadata": {},
   "outputs": [
    {
     "data": {
      "text/html": [
       "<div>\n",
       "<style scoped>\n",
       "    .dataframe tbody tr th:only-of-type {\n",
       "        vertical-align: middle;\n",
       "    }\n",
       "\n",
       "    .dataframe tbody tr th {\n",
       "        vertical-align: top;\n",
       "    }\n",
       "\n",
       "    .dataframe thead th {\n",
       "        text-align: right;\n",
       "    }\n",
       "</style>\n",
       "<table border=\"1\" class=\"dataframe\">\n",
       "  <thead>\n",
       "    <tr style=\"text-align: right;\">\n",
       "      <th></th>\n",
       "      <th>count</th>\n",
       "      <th>mean</th>\n",
       "      <th>std</th>\n",
       "      <th>min</th>\n",
       "      <th>25%</th>\n",
       "      <th>50%</th>\n",
       "      <th>75%</th>\n",
       "      <th>max</th>\n",
       "    </tr>\n",
       "  </thead>\n",
       "  <tbody>\n",
       "    <tr>\n",
       "      <th>价格</th>\n",
       "      <td>6.0</td>\n",
       "      <td>8683.333333</td>\n",
       "      <td>18778.649224</td>\n",
       "      <td>300.0</td>\n",
       "      <td>675.0</td>\n",
       "      <td>1350.0</td>\n",
       "      <td>1575.0</td>\n",
       "      <td>47000.0</td>\n",
       "    </tr>\n",
       "    <tr>\n",
       "      <th>节省</th>\n",
       "      <td>7.0</td>\n",
       "      <td>2657.142857</td>\n",
       "      <td>3710.281725</td>\n",
       "      <td>200.0</td>\n",
       "      <td>350.0</td>\n",
       "      <td>500.0</td>\n",
       "      <td>4100.0</td>\n",
       "      <td>9000.0</td>\n",
       "    </tr>\n",
       "  </tbody>\n",
       "</table>\n",
       "</div>"
      ],
      "text/plain": [
       "    count         mean           std    min    25%     50%     75%      max\n",
       "价格    6.0  8683.333333  18778.649224  300.0  675.0  1350.0  1575.0  47000.0\n",
       "节省    7.0  2657.142857   3710.281725  200.0  350.0   500.0  4100.0   9000.0"
      ]
     },
     "execution_count": 156,
     "metadata": {},
     "output_type": "execute_result"
    }
   ],
   "source": [
    "df.describe().T"
   ]
  },
  {
   "cell_type": "code",
   "execution_count": 157,
   "id": "75d31cb8",
   "metadata": {},
   "outputs": [
    {
     "data": {
      "text/plain": [
       "18778.649223697284"
      ]
     },
     "execution_count": 157,
     "metadata": {},
     "output_type": "execute_result"
    }
   ],
   "source": [
    "df[\"价格\"].std()"
   ]
  },
  {
   "cell_type": "code",
   "execution_count": 158,
   "id": "b022776b",
   "metadata": {},
   "outputs": [
    {
     "data": {
      "text/plain": [
       "8683.333333333334"
      ]
     },
     "execution_count": 158,
     "metadata": {},
     "output_type": "execute_result"
    }
   ],
   "source": [
    "df[\"价格\"].sum()/df[\"价格\"].count()"
   ]
  },
  {
   "cell_type": "code",
   "execution_count": 159,
   "id": "88686997",
   "metadata": {},
   "outputs": [
    {
     "data": {
      "text/plain": [
       "0    38316.666667\n",
       "1    -8383.333333\n",
       "2    -7483.333333\n",
       "3    -8183.333333\n",
       "4    -7183.333333\n",
       "5    -7083.333333\n",
       "6             NaN\n",
       "Name: 价格, dtype: float64"
      ]
     },
     "execution_count": 159,
     "metadata": {},
     "output_type": "execute_result"
    }
   ],
   "source": [
    "df[\"价格\"]-df[\"价格\"].mean()"
   ]
  },
  {
   "cell_type": "code",
   "execution_count": 160,
   "id": "583818d9",
   "metadata": {},
   "outputs": [
    {
     "data": {
      "text/plain": [
       "0    2.040438\n",
       "1   -0.446429\n",
       "2   -0.398502\n",
       "3   -0.435779\n",
       "4   -0.382527\n",
       "5   -0.377201\n",
       "6         NaN\n",
       "Name: 价格, dtype: float64"
      ]
     },
     "execution_count": 160,
     "metadata": {},
     "output_type": "execute_result"
    }
   ],
   "source": [
    "# 数据减去平均数除以标准差的值称为“标准分数（standard score）”\n",
    "sta = (df[\"价格\"]-df[\"价格\"].mean())/df[\"价格\"].std()\n",
    "sta"
   ]
  },
  {
   "cell_type": "code",
   "execution_count": 161,
   "id": "8c66b97b",
   "metadata": {},
   "outputs": [
    {
     "data": {
      "text/html": [
       "<div>\n",
       "<style scoped>\n",
       "    .dataframe tbody tr th:only-of-type {\n",
       "        vertical-align: middle;\n",
       "    }\n",
       "\n",
       "    .dataframe tbody tr th {\n",
       "        vertical-align: top;\n",
       "    }\n",
       "\n",
       "    .dataframe thead th {\n",
       "        text-align: right;\n",
       "    }\n",
       "</style>\n",
       "<table border=\"1\" class=\"dataframe\">\n",
       "  <thead>\n",
       "    <tr style=\"text-align: right;\">\n",
       "      <th></th>\n",
       "      <th>出发地</th>\n",
       "      <th>目的地</th>\n",
       "      <th>价格</th>\n",
       "      <th>节省</th>\n",
       "    </tr>\n",
       "  </thead>\n",
       "  <tbody>\n",
       "    <tr>\n",
       "      <th>0</th>\n",
       "      <td>上海</td>\n",
       "      <td>纽约</td>\n",
       "      <td>47000.0</td>\n",
       "      <td>500</td>\n",
       "    </tr>\n",
       "  </tbody>\n",
       "</table>\n",
       "</div>"
      ],
      "text/plain": [
       "  出发地 目的地       价格   节省\n",
       "0  上海  纽约  47000.0  500"
      ]
     },
     "execution_count": 161,
     "metadata": {},
     "output_type": "execute_result"
    }
   ],
   "source": [
    "# 数据清洗规则，对价格翻一翻的记录做清洗。\n",
    "# df[sta.abs()]\n",
    "df[sta.abs()>2]"
   ]
  },
  {
   "cell_type": "code",
   "execution_count": 163,
   "id": "cb31e07d",
   "metadata": {},
   "outputs": [
    {
     "data": {
      "text/html": [
       "<div>\n",
       "<style scoped>\n",
       "    .dataframe tbody tr th:only-of-type {\n",
       "        vertical-align: middle;\n",
       "    }\n",
       "\n",
       "    .dataframe tbody tr th {\n",
       "        vertical-align: top;\n",
       "    }\n",
       "\n",
       "    .dataframe thead th {\n",
       "        text-align: right;\n",
       "    }\n",
       "</style>\n",
       "<table border=\"1\" class=\"dataframe\">\n",
       "  <thead>\n",
       "    <tr style=\"text-align: right;\">\n",
       "      <th></th>\n",
       "      <th>出发地</th>\n",
       "      <th>目的地</th>\n",
       "      <th>价格</th>\n",
       "      <th>节省</th>\n",
       "    </tr>\n",
       "  </thead>\n",
       "  <tbody>\n",
       "    <tr>\n",
       "      <th>1</th>\n",
       "      <td>北京</td>\n",
       "      <td>天津</td>\n",
       "      <td>300.0</td>\n",
       "      <td>7000</td>\n",
       "    </tr>\n",
       "    <tr>\n",
       "      <th>3</th>\n",
       "      <td>乌鲁木齐</td>\n",
       "      <td>拉萨</td>\n",
       "      <td>500.0</td>\n",
       "      <td>1200</td>\n",
       "    </tr>\n",
       "    <tr>\n",
       "      <th>5</th>\n",
       "      <td>南京</td>\n",
       "      <td>广州</td>\n",
       "      <td>1600.0</td>\n",
       "      <td>9000</td>\n",
       "    </tr>\n",
       "  </tbody>\n",
       "</table>\n",
       "</div>"
      ],
      "text/plain": [
       "    出发地 目的地      价格    节省\n",
       "1    北京  天津   300.0  7000\n",
       "3  乌鲁木齐  拉萨   500.0  1200\n",
       "5    南京  广州  1600.0  9000"
      ]
     },
     "execution_count": 163,
     "metadata": {},
     "output_type": "execute_result"
    }
   ],
   "source": [
    "# 还有一种情况是节省>价格也是不正常的，需要清洗\n",
    "df[df.节省>df.价格]"
   ]
  },
  {
   "cell_type": "code",
   "execution_count": 164,
   "id": "291fbbd6",
   "metadata": {},
   "outputs": [
    {
     "data": {
      "text/html": [
       "<div>\n",
       "<style scoped>\n",
       "    .dataframe tbody tr th:only-of-type {\n",
       "        vertical-align: middle;\n",
       "    }\n",
       "\n",
       "    .dataframe tbody tr th {\n",
       "        vertical-align: top;\n",
       "    }\n",
       "\n",
       "    .dataframe thead th {\n",
       "        text-align: right;\n",
       "    }\n",
       "</style>\n",
       "<table border=\"1\" class=\"dataframe\">\n",
       "  <thead>\n",
       "    <tr style=\"text-align: right;\">\n",
       "      <th></th>\n",
       "      <th>出发地</th>\n",
       "      <th>目的地</th>\n",
       "      <th>价格</th>\n",
       "      <th>节省</th>\n",
       "    </tr>\n",
       "  </thead>\n",
       "  <tbody>\n",
       "    <tr>\n",
       "      <th>0</th>\n",
       "      <td>上海</td>\n",
       "      <td>纽约</td>\n",
       "      <td>47000.0</td>\n",
       "      <td>500</td>\n",
       "    </tr>\n",
       "    <tr>\n",
       "      <th>1</th>\n",
       "      <td>北京</td>\n",
       "      <td>天津</td>\n",
       "      <td>300.0</td>\n",
       "      <td>7000</td>\n",
       "    </tr>\n",
       "    <tr>\n",
       "      <th>3</th>\n",
       "      <td>乌鲁木齐</td>\n",
       "      <td>拉萨</td>\n",
       "      <td>500.0</td>\n",
       "      <td>1200</td>\n",
       "    </tr>\n",
       "    <tr>\n",
       "      <th>5</th>\n",
       "      <td>南京</td>\n",
       "      <td>广州</td>\n",
       "      <td>1600.0</td>\n",
       "      <td>9000</td>\n",
       "    </tr>\n",
       "  </tbody>\n",
       "</table>\n",
       "</div>"
      ],
      "text/plain": [
       "    出发地 目的地       价格    节省\n",
       "0    上海  纽约  47000.0   500\n",
       "1    北京  天津    300.0  7000\n",
       "3  乌鲁木齐  拉萨    500.0  1200\n",
       "5    南京  广州   1600.0  9000"
      ]
     },
     "execution_count": 164,
     "metadata": {},
     "output_type": "execute_result"
    }
   ],
   "source": [
    "# 将两种异常数据进行拼接一下，便于一起处理\n",
    "pd.concat([df[sta.abs()>2],df[df.节省>df.价格]])"
   ]
  },
  {
   "cell_type": "code",
   "execution_count": 165,
   "id": "c6fa36ad",
   "metadata": {},
   "outputs": [
    {
     "data": {
      "text/plain": [
       "Int64Index([0, 1, 3, 5], dtype='int64')"
      ]
     },
     "execution_count": 165,
     "metadata": {},
     "output_type": "execute_result"
    }
   ],
   "source": [
    "# 获取4条记录的索引号\n",
    "del_index = pd.concat([df[sta.abs()>2],df[df.节省>df.价格]]).index\n",
    "del_index"
   ]
  },
  {
   "cell_type": "code",
   "execution_count": 168,
   "id": "9627d0b2",
   "metadata": {},
   "outputs": [],
   "source": [
    "# 删除记录\n",
    "# 删除表中的某一行或者某一列更明智的方法是使用drop，它不改变原有的df中的数据，而是可选择性的返回另一个dataframe来存放删除后的数据。\n",
    "# df.drop(del_index)  # 显示删除后记录（未删除）\n",
    "df.drop(del_index, inplace=True)  # 执行删除"
   ]
  },
  {
   "cell_type": "code",
   "execution_count": 169,
   "id": "6c67975b",
   "metadata": {},
   "outputs": [
    {
     "data": {
      "text/plain": [
       "(3, 4)"
      ]
     },
     "execution_count": 169,
     "metadata": {},
     "output_type": "execute_result"
    }
   ],
   "source": [
    "df.shape"
   ]
  },
  {
   "cell_type": "code",
   "execution_count": 170,
   "id": "4eb3137b",
   "metadata": {},
   "outputs": [
    {
     "data": {
      "text/html": [
       "<div>\n",
       "<style scoped>\n",
       "    .dataframe tbody tr th:only-of-type {\n",
       "        vertical-align: middle;\n",
       "    }\n",
       "\n",
       "    .dataframe tbody tr th {\n",
       "        vertical-align: top;\n",
       "    }\n",
       "\n",
       "    .dataframe thead th {\n",
       "        text-align: right;\n",
       "    }\n",
       "</style>\n",
       "<table border=\"1\" class=\"dataframe\">\n",
       "  <thead>\n",
       "    <tr style=\"text-align: right;\">\n",
       "      <th></th>\n",
       "      <th>出发地</th>\n",
       "      <th>目的地</th>\n",
       "      <th>价格</th>\n",
       "      <th>节省</th>\n",
       "    </tr>\n",
       "  </thead>\n",
       "  <tbody>\n",
       "    <tr>\n",
       "      <th>2</th>\n",
       "      <td>沈阳</td>\n",
       "      <td>青岛</td>\n",
       "      <td>1200.0</td>\n",
       "      <td>200</td>\n",
       "    </tr>\n",
       "    <tr>\n",
       "      <th>4</th>\n",
       "      <td>江苏</td>\n",
       "      <td>四川</td>\n",
       "      <td>1500.0</td>\n",
       "      <td>200</td>\n",
       "    </tr>\n",
       "    <tr>\n",
       "      <th>6</th>\n",
       "      <td>杭州</td>\n",
       "      <td>西安</td>\n",
       "      <td>NaN</td>\n",
       "      <td>500</td>\n",
       "    </tr>\n",
       "  </tbody>\n",
       "</table>\n",
       "</div>"
      ],
      "text/plain": [
       "  出发地 目的地      价格   节省\n",
       "2  沈阳  青岛  1200.0  200\n",
       "4  江苏  四川  1500.0  200\n",
       "6  杭州  西安     NaN  500"
      ]
     },
     "execution_count": 170,
     "metadata": {},
     "output_type": "execute_result"
    }
   ],
   "source": [
    "df"
   ]
  },
  {
   "cell_type": "markdown",
   "id": "14d4f0a2",
   "metadata": {},
   "source": [
    "# 查看缺失值\n",
    "-df.isnull() 查看缺失值\n",
    "-df.notnull() 查看不为空\n",
    "-df.dropnd() Fillna填充缺失数据\n",
    "-df.fillna()"
   ]
  },
  {
   "cell_type": "code",
   "execution_count": 171,
   "id": "076eecaf",
   "metadata": {},
   "outputs": [
    {
     "data": {
      "text/html": [
       "<div>\n",
       "<style scoped>\n",
       "    .dataframe tbody tr th:only-of-type {\n",
       "        vertical-align: middle;\n",
       "    }\n",
       "\n",
       "    .dataframe tbody tr th {\n",
       "        vertical-align: top;\n",
       "    }\n",
       "\n",
       "    .dataframe thead th {\n",
       "        text-align: right;\n",
       "    }\n",
       "</style>\n",
       "<table border=\"1\" class=\"dataframe\">\n",
       "  <thead>\n",
       "    <tr style=\"text-align: right;\">\n",
       "      <th></th>\n",
       "      <th>出发地</th>\n",
       "      <th>目的地</th>\n",
       "      <th>价格</th>\n",
       "      <th>节省</th>\n",
       "    </tr>\n",
       "  </thead>\n",
       "  <tbody>\n",
       "    <tr>\n",
       "      <th>2</th>\n",
       "      <td>False</td>\n",
       "      <td>False</td>\n",
       "      <td>False</td>\n",
       "      <td>False</td>\n",
       "    </tr>\n",
       "    <tr>\n",
       "      <th>4</th>\n",
       "      <td>False</td>\n",
       "      <td>False</td>\n",
       "      <td>False</td>\n",
       "      <td>False</td>\n",
       "    </tr>\n",
       "    <tr>\n",
       "      <th>6</th>\n",
       "      <td>False</td>\n",
       "      <td>False</td>\n",
       "      <td>True</td>\n",
       "      <td>False</td>\n",
       "    </tr>\n",
       "  </tbody>\n",
       "</table>\n",
       "</div>"
      ],
      "text/plain": [
       "     出发地    目的地     价格     节省\n",
       "2  False  False  False  False\n",
       "4  False  False  False  False\n",
       "6  False  False   True  False"
      ]
     },
     "execution_count": 171,
     "metadata": {},
     "output_type": "execute_result"
    }
   ],
   "source": [
    "df.isnull()"
   ]
  },
  {
   "cell_type": "code",
   "execution_count": 172,
   "id": "d5a5d727",
   "metadata": {},
   "outputs": [
    {
     "data": {
      "text/plain": [
       "出发地    0\n",
       "目的地    0\n",
       "价格     1\n",
       "节省     0\n",
       "dtype: int64"
      ]
     },
     "execution_count": 172,
     "metadata": {},
     "output_type": "execute_result"
    }
   ],
   "source": [
    "df.isnull().sum()"
   ]
  },
  {
   "cell_type": "code",
   "execution_count": 173,
   "id": "96438bf2",
   "metadata": {},
   "outputs": [
    {
     "data": {
      "text/html": [
       "<div>\n",
       "<style scoped>\n",
       "    .dataframe tbody tr th:only-of-type {\n",
       "        vertical-align: middle;\n",
       "    }\n",
       "\n",
       "    .dataframe tbody tr th {\n",
       "        vertical-align: top;\n",
       "    }\n",
       "\n",
       "    .dataframe thead th {\n",
       "        text-align: right;\n",
       "    }\n",
       "</style>\n",
       "<table border=\"1\" class=\"dataframe\">\n",
       "  <thead>\n",
       "    <tr style=\"text-align: right;\">\n",
       "      <th></th>\n",
       "      <th>出发地</th>\n",
       "      <th>目的地</th>\n",
       "      <th>价格</th>\n",
       "      <th>节省</th>\n",
       "    </tr>\n",
       "  </thead>\n",
       "  <tbody>\n",
       "    <tr>\n",
       "      <th>2</th>\n",
       "      <td>True</td>\n",
       "      <td>True</td>\n",
       "      <td>True</td>\n",
       "      <td>True</td>\n",
       "    </tr>\n",
       "    <tr>\n",
       "      <th>4</th>\n",
       "      <td>True</td>\n",
       "      <td>True</td>\n",
       "      <td>True</td>\n",
       "      <td>True</td>\n",
       "    </tr>\n",
       "    <tr>\n",
       "      <th>6</th>\n",
       "      <td>True</td>\n",
       "      <td>True</td>\n",
       "      <td>False</td>\n",
       "      <td>True</td>\n",
       "    </tr>\n",
       "  </tbody>\n",
       "</table>\n",
       "</div>"
      ],
      "text/plain": [
       "    出发地   目的地     价格    节省\n",
       "2  True  True   True  True\n",
       "4  True  True   True  True\n",
       "6  True  True  False  True"
      ]
     },
     "execution_count": 173,
     "metadata": {},
     "output_type": "execute_result"
    }
   ],
   "source": [
    "df.notnull()"
   ]
  },
  {
   "cell_type": "code",
   "execution_count": 174,
   "id": "19b1bf86",
   "metadata": {},
   "outputs": [
    {
     "data": {
      "text/plain": [
       "出发地    3\n",
       "目的地    3\n",
       "价格     2\n",
       "节省     3\n",
       "dtype: int64"
      ]
     },
     "execution_count": 174,
     "metadata": {},
     "output_type": "execute_result"
    }
   ],
   "source": [
    "df.notnull().sum()"
   ]
  },
  {
   "cell_type": "code",
   "execution_count": 175,
   "id": "383eea0e",
   "metadata": {},
   "outputs": [
    {
     "data": {
      "text/html": [
       "<div>\n",
       "<style scoped>\n",
       "    .dataframe tbody tr th:only-of-type {\n",
       "        vertical-align: middle;\n",
       "    }\n",
       "\n",
       "    .dataframe tbody tr th {\n",
       "        vertical-align: top;\n",
       "    }\n",
       "\n",
       "    .dataframe thead th {\n",
       "        text-align: right;\n",
       "    }\n",
       "</style>\n",
       "<table border=\"1\" class=\"dataframe\">\n",
       "  <thead>\n",
       "    <tr style=\"text-align: right;\">\n",
       "      <th></th>\n",
       "      <th>出发地</th>\n",
       "      <th>目的地</th>\n",
       "      <th>价格</th>\n",
       "      <th>节省</th>\n",
       "    </tr>\n",
       "  </thead>\n",
       "  <tbody>\n",
       "    <tr>\n",
       "      <th>6</th>\n",
       "      <td>杭州</td>\n",
       "      <td>西安</td>\n",
       "      <td>NaN</td>\n",
       "      <td>500</td>\n",
       "    </tr>\n",
       "  </tbody>\n",
       "</table>\n",
       "</div>"
      ],
      "text/plain": [
       "  出发地 目的地  价格   节省\n",
       "6  杭州  西安 NaN  500"
      ]
     },
     "execution_count": 175,
     "metadata": {},
     "output_type": "execute_result"
    }
   ],
   "source": [
    "df[df.价格.isnull()]"
   ]
  },
  {
   "cell_type": "code",
   "execution_count": 352,
   "id": "f29e4e09",
   "metadata": {},
   "outputs": [
    {
     "data": {
      "text/html": [
       "<div>\n",
       "<style scoped>\n",
       "    .dataframe tbody tr th:only-of-type {\n",
       "        vertical-align: middle;\n",
       "    }\n",
       "\n",
       "    .dataframe tbody tr th {\n",
       "        vertical-align: top;\n",
       "    }\n",
       "\n",
       "    .dataframe thead th {\n",
       "        text-align: right;\n",
       "    }\n",
       "</style>\n",
       "<table border=\"1\" class=\"dataframe\">\n",
       "  <thead>\n",
       "    <tr style=\"text-align: right;\">\n",
       "      <th></th>\n",
       "      <th>出发地</th>\n",
       "      <th>目的地</th>\n",
       "      <th>价格</th>\n",
       "      <th>节省</th>\n",
       "      <th>路线名</th>\n",
       "    </tr>\n",
       "  </thead>\n",
       "  <tbody>\n",
       "    <tr>\n",
       "      <th>0</th>\n",
       "      <td>上海</td>\n",
       "      <td>纽约</td>\n",
       "      <td>47000.0</td>\n",
       "      <td>500</td>\n",
       "      <td>大连-烟台3天2晚</td>\n",
       "    </tr>\n",
       "    <tr>\n",
       "      <th>1</th>\n",
       "      <td>北京</td>\n",
       "      <td>天津</td>\n",
       "      <td>300.0</td>\n",
       "      <td>7000</td>\n",
       "      <td>北京-秦皇岛2天2夜</td>\n",
       "    </tr>\n",
       "    <tr>\n",
       "      <th>2</th>\n",
       "      <td>沈阳</td>\n",
       "      <td>青岛</td>\n",
       "      <td>1200.0</td>\n",
       "      <td>200</td>\n",
       "      <td>沈阳-青岛3天3晚</td>\n",
       "    </tr>\n",
       "    <tr>\n",
       "      <th>3</th>\n",
       "      <td>NaN</td>\n",
       "      <td>拉萨</td>\n",
       "      <td>500.0</td>\n",
       "      <td>1200</td>\n",
       "      <td>乌鲁木齐-拉萨2天1晚</td>\n",
       "    </tr>\n",
       "    <tr>\n",
       "      <th>4</th>\n",
       "      <td>江苏</td>\n",
       "      <td>NaN</td>\n",
       "      <td>1500.0</td>\n",
       "      <td>200</td>\n",
       "      <td>江苏-四川4天3夜</td>\n",
       "    </tr>\n",
       "    <tr>\n",
       "      <th>5</th>\n",
       "      <td>南京</td>\n",
       "      <td>广州</td>\n",
       "      <td>1600.0</td>\n",
       "      <td>9000</td>\n",
       "      <td>南京-广州6天5夜</td>\n",
       "    </tr>\n",
       "    <tr>\n",
       "      <th>6</th>\n",
       "      <td>NaN</td>\n",
       "      <td>西安</td>\n",
       "      <td>NaN</td>\n",
       "      <td>500</td>\n",
       "      <td>杭州-西安4天4夜</td>\n",
       "    </tr>\n",
       "  </tbody>\n",
       "</table>\n",
       "</div>"
      ],
      "text/plain": [
       "   出发地  目的地       价格    节省          路线名\n",
       "0   上海   纽约  47000.0   500    大连-烟台3天2晚\n",
       "1   北京   天津    300.0  7000   北京-秦皇岛2天2夜\n",
       "2   沈阳   青岛   1200.0   200    沈阳-青岛3天3晚\n",
       "3  NaN   拉萨    500.0  1200  乌鲁木齐-拉萨2天1晚\n",
       "4   江苏  NaN   1500.0   200    江苏-四川4天3夜\n",
       "5   南京   广州   1600.0  9000    南京-广州6天5夜\n",
       "6  NaN   西安      NaN   500    杭州-西安4天4夜"
      ]
     },
     "execution_count": 352,
     "metadata": {},
     "output_type": "execute_result"
    }
   ],
   "source": [
    "# 修改缺失值\n",
    "df = pd.read_csv(\"tr.csv\")  \n",
    "df"
   ]
  },
  {
   "cell_type": "code",
   "execution_count": 353,
   "id": "15822581",
   "metadata": {},
   "outputs": [
    {
     "data": {
      "text/html": [
       "<div>\n",
       "<style scoped>\n",
       "    .dataframe tbody tr th:only-of-type {\n",
       "        vertical-align: middle;\n",
       "    }\n",
       "\n",
       "    .dataframe tbody tr th {\n",
       "        vertical-align: top;\n",
       "    }\n",
       "\n",
       "    .dataframe thead th {\n",
       "        text-align: right;\n",
       "    }\n",
       "</style>\n",
       "<table border=\"1\" class=\"dataframe\">\n",
       "  <thead>\n",
       "    <tr style=\"text-align: right;\">\n",
       "      <th></th>\n",
       "      <th>出发地</th>\n",
       "      <th>目的地</th>\n",
       "      <th>价格</th>\n",
       "      <th>节省</th>\n",
       "      <th>路线名</th>\n",
       "    </tr>\n",
       "  </thead>\n",
       "  <tbody>\n",
       "    <tr>\n",
       "      <th>3</th>\n",
       "      <td>NaN</td>\n",
       "      <td>拉萨</td>\n",
       "      <td>500.0</td>\n",
       "      <td>1200</td>\n",
       "      <td>乌鲁木齐-拉萨2天1晚</td>\n",
       "    </tr>\n",
       "    <tr>\n",
       "      <th>6</th>\n",
       "      <td>NaN</td>\n",
       "      <td>西安</td>\n",
       "      <td>NaN</td>\n",
       "      <td>500</td>\n",
       "      <td>杭州-西安4天4夜</td>\n",
       "    </tr>\n",
       "  </tbody>\n",
       "</table>\n",
       "</div>"
      ],
      "text/plain": [
       "   出发地 目的地     价格    节省          路线名\n",
       "3  NaN  拉萨  500.0  1200  乌鲁木齐-拉萨2天1晚\n",
       "6  NaN  西安    NaN   500    杭州-西安4天4夜"
      ]
     },
     "execution_count": 353,
     "metadata": {},
     "output_type": "execute_result"
    }
   ],
   "source": [
    "df[df.出发地.isnull()]"
   ]
  },
  {
   "cell_type": "code",
   "execution_count": 354,
   "id": "8c39c5a0",
   "metadata": {},
   "outputs": [
    {
     "data": {
      "text/plain": [
       "3    乌鲁木齐-拉萨2天1晚\n",
       "6      杭州-西安4天4夜\n",
       "Name: 路线名, dtype: object"
      ]
     },
     "execution_count": 354,
     "metadata": {},
     "output_type": "execute_result"
    }
   ],
   "source": [
    "df.loc[df.出发地.isnull(),\"路线名\"]"
   ]
  },
  {
   "cell_type": "code",
   "execution_count": 355,
   "id": "a4510434",
   "metadata": {},
   "outputs": [
    {
     "data": {
      "text/plain": [
       "['乌鲁木齐', '杭州']"
      ]
     },
     "execution_count": 355,
     "metadata": {},
     "output_type": "execute_result"
    }
   ],
   "source": [
    "[str(x).split(\"-\")[0] for x in df.loc[df.出发地.isnull(),\"路线名\"]]"
   ]
  },
  {
   "cell_type": "code",
   "execution_count": 356,
   "id": "4871d0c1",
   "metadata": {},
   "outputs": [],
   "source": [
    "df.loc[df.出发地.isnull(),\"出发地\"] = [str(x).split(\"-\")[0] for x in df.loc[df.出发地.isnull(),\"路线名\"]]"
   ]
  },
  {
   "cell_type": "code",
   "execution_count": 357,
   "id": "584b5dfa",
   "metadata": {},
   "outputs": [
    {
     "data": {
      "text/html": [
       "<div>\n",
       "<style scoped>\n",
       "    .dataframe tbody tr th:only-of-type {\n",
       "        vertical-align: middle;\n",
       "    }\n",
       "\n",
       "    .dataframe tbody tr th {\n",
       "        vertical-align: top;\n",
       "    }\n",
       "\n",
       "    .dataframe thead th {\n",
       "        text-align: right;\n",
       "    }\n",
       "</style>\n",
       "<table border=\"1\" class=\"dataframe\">\n",
       "  <thead>\n",
       "    <tr style=\"text-align: right;\">\n",
       "      <th></th>\n",
       "      <th>出发地</th>\n",
       "      <th>目的地</th>\n",
       "      <th>价格</th>\n",
       "      <th>节省</th>\n",
       "      <th>路线名</th>\n",
       "    </tr>\n",
       "  </thead>\n",
       "  <tbody>\n",
       "    <tr>\n",
       "      <th>0</th>\n",
       "      <td>上海</td>\n",
       "      <td>纽约</td>\n",
       "      <td>47000.0</td>\n",
       "      <td>500</td>\n",
       "      <td>大连-烟台3天2晚</td>\n",
       "    </tr>\n",
       "    <tr>\n",
       "      <th>1</th>\n",
       "      <td>北京</td>\n",
       "      <td>天津</td>\n",
       "      <td>300.0</td>\n",
       "      <td>7000</td>\n",
       "      <td>北京-秦皇岛2天2夜</td>\n",
       "    </tr>\n",
       "    <tr>\n",
       "      <th>2</th>\n",
       "      <td>沈阳</td>\n",
       "      <td>青岛</td>\n",
       "      <td>1200.0</td>\n",
       "      <td>200</td>\n",
       "      <td>沈阳-青岛3天3晚</td>\n",
       "    </tr>\n",
       "    <tr>\n",
       "      <th>3</th>\n",
       "      <td>乌鲁木齐</td>\n",
       "      <td>拉萨</td>\n",
       "      <td>500.0</td>\n",
       "      <td>1200</td>\n",
       "      <td>乌鲁木齐-拉萨2天1晚</td>\n",
       "    </tr>\n",
       "    <tr>\n",
       "      <th>4</th>\n",
       "      <td>江苏</td>\n",
       "      <td>NaN</td>\n",
       "      <td>1500.0</td>\n",
       "      <td>200</td>\n",
       "      <td>江苏-四川4天3夜</td>\n",
       "    </tr>\n",
       "    <tr>\n",
       "      <th>5</th>\n",
       "      <td>南京</td>\n",
       "      <td>广州</td>\n",
       "      <td>1600.0</td>\n",
       "      <td>9000</td>\n",
       "      <td>南京-广州6天5夜</td>\n",
       "    </tr>\n",
       "    <tr>\n",
       "      <th>6</th>\n",
       "      <td>杭州</td>\n",
       "      <td>西安</td>\n",
       "      <td>NaN</td>\n",
       "      <td>500</td>\n",
       "      <td>杭州-西安4天4夜</td>\n",
       "    </tr>\n",
       "  </tbody>\n",
       "</table>\n",
       "</div>"
      ],
      "text/plain": [
       "    出发地  目的地       价格    节省          路线名\n",
       "0    上海   纽约  47000.0   500    大连-烟台3天2晚\n",
       "1    北京   天津    300.0  7000   北京-秦皇岛2天2夜\n",
       "2    沈阳   青岛   1200.0   200    沈阳-青岛3天3晚\n",
       "3  乌鲁木齐   拉萨    500.0  1200  乌鲁木齐-拉萨2天1晚\n",
       "4    江苏  NaN   1500.0   200    江苏-四川4天3夜\n",
       "5    南京   广州   1600.0  9000    南京-广州6天5夜\n",
       "6    杭州   西安      NaN   500    杭州-西安4天4夜"
      ]
     },
     "execution_count": 357,
     "metadata": {},
     "output_type": "execute_result"
    }
   ],
   "source": [
    "df"
   ]
  },
  {
   "cell_type": "code",
   "execution_count": 358,
   "id": "6e380af6",
   "metadata": {},
   "outputs": [
    {
     "data": {
      "text/plain": [
       "\"['江苏-四川4天3夜']\""
      ]
     },
     "execution_count": 358,
     "metadata": {},
     "output_type": "execute_result"
    }
   ],
   "source": [
    "str(df.loc[df.目的地.isnull(),\"路线名\"].values)"
   ]
  },
  {
   "cell_type": "code",
   "execution_count": 359,
   "id": "61631bdd",
   "metadata": {},
   "outputs": [
    {
     "data": {
      "text/plain": [
       "['四川']"
      ]
     },
     "execution_count": 359,
     "metadata": {},
     "output_type": "execute_result"
    }
   ],
   "source": [
    "# 通过正则表达式获取目的地？\n",
    "re.findall(\"-(.*)\\d天\",\"['江苏-四川4天3夜']\") \n",
    "# x[0]\n",
    "# re.findall(\"(.*)\\d\",x[0])[0]"
   ]
  },
  {
   "cell_type": "code",
   "execution_count": 360,
   "id": "9003067c",
   "metadata": {},
   "outputs": [
    {
     "data": {
      "text/plain": [
       "\"四川4天3夜']\""
      ]
     },
     "execution_count": 360,
     "metadata": {},
     "output_type": "execute_result"
    }
   ],
   "source": [
    "str(df.loc[df.目的地.isnull(),\"路线名\"].values).split(\"-\")[1]"
   ]
  },
  {
   "cell_type": "code",
   "execution_count": 361,
   "id": "4b9f4593",
   "metadata": {},
   "outputs": [
    {
     "data": {
      "text/plain": [
       "[['4', 2], ['3', 4]]"
      ]
     },
     "execution_count": 361,
     "metadata": {},
     "output_type": "execute_result"
    }
   ],
   "source": [
    "tmp = Str_PO.indexNumber(str(df.loc[df.目的地.isnull(),\"路线名\"].values).split(\"-\")[1])\n",
    "tmp\n"
   ]
  },
  {
   "cell_type": "code",
   "execution_count": 362,
   "id": "0ce4f04c",
   "metadata": {},
   "outputs": [
    {
     "data": {
      "text/plain": [
       "2"
      ]
     },
     "execution_count": 362,
     "metadata": {},
     "output_type": "execute_result"
    }
   ],
   "source": [
    "tmp[0][1]"
   ]
  },
  {
   "cell_type": "code",
   "execution_count": 363,
   "id": "3eeb2fe5",
   "metadata": {},
   "outputs": [
    {
     "data": {
      "text/plain": [
       "'四川'"
      ]
     },
     "execution_count": 363,
     "metadata": {},
     "output_type": "execute_result"
    }
   ],
   "source": [
    "[str(x).split(\"-\")[1] for x in df.loc[df.目的地.isnull(),\"路线名\"]][0][:tmp[0][1]]"
   ]
  },
  {
   "cell_type": "code",
   "execution_count": 364,
   "id": "09736944",
   "metadata": {},
   "outputs": [],
   "source": [
    "df.loc[df.目的地.isnull(),\"目的地\"] = [str(x).split(\"-\")[1] for x in df.loc[df.目的地.isnull(),\"路线名\"]][0][:tmp[0][1]]"
   ]
  },
  {
   "cell_type": "code",
   "execution_count": 365,
   "id": "d202ba18",
   "metadata": {},
   "outputs": [
    {
     "data": {
      "text/html": [
       "<div>\n",
       "<style scoped>\n",
       "    .dataframe tbody tr th:only-of-type {\n",
       "        vertical-align: middle;\n",
       "    }\n",
       "\n",
       "    .dataframe tbody tr th {\n",
       "        vertical-align: top;\n",
       "    }\n",
       "\n",
       "    .dataframe thead th {\n",
       "        text-align: right;\n",
       "    }\n",
       "</style>\n",
       "<table border=\"1\" class=\"dataframe\">\n",
       "  <thead>\n",
       "    <tr style=\"text-align: right;\">\n",
       "      <th></th>\n",
       "      <th>出发地</th>\n",
       "      <th>目的地</th>\n",
       "      <th>价格</th>\n",
       "      <th>节省</th>\n",
       "      <th>路线名</th>\n",
       "    </tr>\n",
       "  </thead>\n",
       "  <tbody>\n",
       "  </tbody>\n",
       "</table>\n",
       "</div>"
      ],
      "text/plain": [
       "Empty DataFrame\n",
       "Columns: [出发地, 目的地, 价格, 节省, 路线名]\n",
       "Index: []"
      ]
     },
     "execution_count": 365,
     "metadata": {},
     "output_type": "execute_result"
    }
   ],
   "source": [
    "df[df.目的地.isnull()]"
   ]
  },
  {
   "cell_type": "code",
   "execution_count": 366,
   "id": "0e0c34d1",
   "metadata": {},
   "outputs": [
    {
     "data": {
      "text/html": [
       "<div>\n",
       "<style scoped>\n",
       "    .dataframe tbody tr th:only-of-type {\n",
       "        vertical-align: middle;\n",
       "    }\n",
       "\n",
       "    .dataframe tbody tr th {\n",
       "        vertical-align: top;\n",
       "    }\n",
       "\n",
       "    .dataframe thead th {\n",
       "        text-align: right;\n",
       "    }\n",
       "</style>\n",
       "<table border=\"1\" class=\"dataframe\">\n",
       "  <thead>\n",
       "    <tr style=\"text-align: right;\">\n",
       "      <th></th>\n",
       "      <th>出发地</th>\n",
       "      <th>目的地</th>\n",
       "      <th>价格</th>\n",
       "      <th>节省</th>\n",
       "      <th>路线名</th>\n",
       "    </tr>\n",
       "  </thead>\n",
       "  <tbody>\n",
       "    <tr>\n",
       "      <th>0</th>\n",
       "      <td>上海</td>\n",
       "      <td>纽约</td>\n",
       "      <td>47000.0</td>\n",
       "      <td>500</td>\n",
       "      <td>大连-烟台3天2晚</td>\n",
       "    </tr>\n",
       "    <tr>\n",
       "      <th>1</th>\n",
       "      <td>北京</td>\n",
       "      <td>天津</td>\n",
       "      <td>300.0</td>\n",
       "      <td>7000</td>\n",
       "      <td>北京-秦皇岛2天2夜</td>\n",
       "    </tr>\n",
       "    <tr>\n",
       "      <th>2</th>\n",
       "      <td>沈阳</td>\n",
       "      <td>青岛</td>\n",
       "      <td>1200.0</td>\n",
       "      <td>200</td>\n",
       "      <td>沈阳-青岛3天3晚</td>\n",
       "    </tr>\n",
       "    <tr>\n",
       "      <th>3</th>\n",
       "      <td>乌鲁木齐</td>\n",
       "      <td>拉萨</td>\n",
       "      <td>500.0</td>\n",
       "      <td>1200</td>\n",
       "      <td>乌鲁木齐-拉萨2天1晚</td>\n",
       "    </tr>\n",
       "    <tr>\n",
       "      <th>4</th>\n",
       "      <td>江苏</td>\n",
       "      <td>四川</td>\n",
       "      <td>1500.0</td>\n",
       "      <td>200</td>\n",
       "      <td>江苏-四川4天3夜</td>\n",
       "    </tr>\n",
       "    <tr>\n",
       "      <th>5</th>\n",
       "      <td>南京</td>\n",
       "      <td>广州</td>\n",
       "      <td>1600.0</td>\n",
       "      <td>9000</td>\n",
       "      <td>南京-广州6天5夜</td>\n",
       "    </tr>\n",
       "    <tr>\n",
       "      <th>6</th>\n",
       "      <td>杭州</td>\n",
       "      <td>西安</td>\n",
       "      <td>NaN</td>\n",
       "      <td>500</td>\n",
       "      <td>杭州-西安4天4夜</td>\n",
       "    </tr>\n",
       "  </tbody>\n",
       "</table>\n",
       "</div>"
      ],
      "text/plain": [
       "    出发地 目的地       价格    节省          路线名\n",
       "0    上海  纽约  47000.0   500    大连-烟台3天2晚\n",
       "1    北京  天津    300.0  7000   北京-秦皇岛2天2夜\n",
       "2    沈阳  青岛   1200.0   200    沈阳-青岛3天3晚\n",
       "3  乌鲁木齐  拉萨    500.0  1200  乌鲁木齐-拉萨2天1晚\n",
       "4    江苏  四川   1500.0   200    江苏-四川4天3夜\n",
       "5    南京  广州   1600.0  9000    南京-广州6天5夜\n",
       "6    杭州  西安      NaN   500    杭州-西安4天4夜"
      ]
     },
     "execution_count": 366,
     "metadata": {},
     "output_type": "execute_result"
    }
   ],
   "source": [
    "df"
   ]
  },
  {
   "cell_type": "code",
   "execution_count": 367,
   "id": "4c7e7b59",
   "metadata": {},
   "outputs": [
    {
     "data": {
      "text/html": [
       "<div>\n",
       "<style scoped>\n",
       "    .dataframe tbody tr th:only-of-type {\n",
       "        vertical-align: middle;\n",
       "    }\n",
       "\n",
       "    .dataframe tbody tr th {\n",
       "        vertical-align: top;\n",
       "    }\n",
       "\n",
       "    .dataframe thead th {\n",
       "        text-align: right;\n",
       "    }\n",
       "</style>\n",
       "<table border=\"1\" class=\"dataframe\">\n",
       "  <thead>\n",
       "    <tr style=\"text-align: right;\">\n",
       "      <th></th>\n",
       "      <th>count</th>\n",
       "      <th>mean</th>\n",
       "      <th>std</th>\n",
       "      <th>min</th>\n",
       "      <th>25%</th>\n",
       "      <th>50%</th>\n",
       "      <th>75%</th>\n",
       "      <th>max</th>\n",
       "    </tr>\n",
       "  </thead>\n",
       "  <tbody>\n",
       "    <tr>\n",
       "      <th>价格</th>\n",
       "      <td>6.0</td>\n",
       "      <td>8683.333333</td>\n",
       "      <td>18778.649224</td>\n",
       "      <td>300.0</td>\n",
       "      <td>675.0</td>\n",
       "      <td>1350.0</td>\n",
       "      <td>1575.0</td>\n",
       "      <td>47000.0</td>\n",
       "    </tr>\n",
       "    <tr>\n",
       "      <th>节省</th>\n",
       "      <td>7.0</td>\n",
       "      <td>2657.142857</td>\n",
       "      <td>3710.281725</td>\n",
       "      <td>200.0</td>\n",
       "      <td>350.0</td>\n",
       "      <td>500.0</td>\n",
       "      <td>4100.0</td>\n",
       "      <td>9000.0</td>\n",
       "    </tr>\n",
       "  </tbody>\n",
       "</table>\n",
       "</div>"
      ],
      "text/plain": [
       "    count         mean           std    min    25%     50%     75%      max\n",
       "价格    6.0  8683.333333  18778.649224  300.0  675.0  1350.0  1575.0  47000.0\n",
       "节省    7.0  2657.142857   3710.281725  200.0  350.0   500.0  4100.0   9000.0"
      ]
     },
     "execution_count": 367,
     "metadata": {},
     "output_type": "execute_result"
    }
   ],
   "source": [
    "df.describe().T"
   ]
  },
  {
   "cell_type": "code",
   "execution_count": 368,
   "id": "66a9af4e",
   "metadata": {},
   "outputs": [
    {
     "data": {
      "text/plain": [
       "8683.0"
      ]
     },
     "execution_count": 368,
     "metadata": {},
     "output_type": "execute_result"
    }
   ],
   "source": [
    "round(df['价格'].mean(),0)"
   ]
  },
  {
   "cell_type": "code",
   "execution_count": 369,
   "id": "e3d94c36",
   "metadata": {},
   "outputs": [],
   "source": [
    "# 将平均价格填充价格缺失值\n",
    "df['价格'].fillna(round(df['价格'].mean(),0),inplace=True)"
   ]
  },
  {
   "cell_type": "code",
   "execution_count": 370,
   "id": "6732da6a",
   "metadata": {},
   "outputs": [
    {
     "data": {
      "text/html": [
       "<div>\n",
       "<style scoped>\n",
       "    .dataframe tbody tr th:only-of-type {\n",
       "        vertical-align: middle;\n",
       "    }\n",
       "\n",
       "    .dataframe tbody tr th {\n",
       "        vertical-align: top;\n",
       "    }\n",
       "\n",
       "    .dataframe thead th {\n",
       "        text-align: right;\n",
       "    }\n",
       "</style>\n",
       "<table border=\"1\" class=\"dataframe\">\n",
       "  <thead>\n",
       "    <tr style=\"text-align: right;\">\n",
       "      <th></th>\n",
       "      <th>出发地</th>\n",
       "      <th>目的地</th>\n",
       "      <th>价格</th>\n",
       "      <th>节省</th>\n",
       "      <th>路线名</th>\n",
       "    </tr>\n",
       "  </thead>\n",
       "  <tbody>\n",
       "    <tr>\n",
       "      <th>0</th>\n",
       "      <td>上海</td>\n",
       "      <td>纽约</td>\n",
       "      <td>47000.0</td>\n",
       "      <td>500</td>\n",
       "      <td>大连-烟台3天2晚</td>\n",
       "    </tr>\n",
       "    <tr>\n",
       "      <th>1</th>\n",
       "      <td>北京</td>\n",
       "      <td>天津</td>\n",
       "      <td>300.0</td>\n",
       "      <td>7000</td>\n",
       "      <td>北京-秦皇岛2天2夜</td>\n",
       "    </tr>\n",
       "    <tr>\n",
       "      <th>2</th>\n",
       "      <td>沈阳</td>\n",
       "      <td>青岛</td>\n",
       "      <td>1200.0</td>\n",
       "      <td>200</td>\n",
       "      <td>沈阳-青岛3天3晚</td>\n",
       "    </tr>\n",
       "    <tr>\n",
       "      <th>3</th>\n",
       "      <td>乌鲁木齐</td>\n",
       "      <td>拉萨</td>\n",
       "      <td>500.0</td>\n",
       "      <td>1200</td>\n",
       "      <td>乌鲁木齐-拉萨2天1晚</td>\n",
       "    </tr>\n",
       "    <tr>\n",
       "      <th>4</th>\n",
       "      <td>江苏</td>\n",
       "      <td>四川</td>\n",
       "      <td>1500.0</td>\n",
       "      <td>200</td>\n",
       "      <td>江苏-四川4天3夜</td>\n",
       "    </tr>\n",
       "    <tr>\n",
       "      <th>5</th>\n",
       "      <td>南京</td>\n",
       "      <td>广州</td>\n",
       "      <td>1600.0</td>\n",
       "      <td>9000</td>\n",
       "      <td>南京-广州6天5夜</td>\n",
       "    </tr>\n",
       "    <tr>\n",
       "      <th>6</th>\n",
       "      <td>杭州</td>\n",
       "      <td>西安</td>\n",
       "      <td>8683.0</td>\n",
       "      <td>500</td>\n",
       "      <td>杭州-西安4天4夜</td>\n",
       "    </tr>\n",
       "  </tbody>\n",
       "</table>\n",
       "</div>"
      ],
      "text/plain": [
       "    出发地 目的地       价格    节省          路线名\n",
       "0    上海  纽约  47000.0   500    大连-烟台3天2晚\n",
       "1    北京  天津    300.0  7000   北京-秦皇岛2天2夜\n",
       "2    沈阳  青岛   1200.0   200    沈阳-青岛3天3晚\n",
       "3  乌鲁木齐  拉萨    500.0  1200  乌鲁木齐-拉萨2天1晚\n",
       "4    江苏  四川   1500.0   200    江苏-四川4天3夜\n",
       "5    南京  广州   1600.0  9000    南京-广州6天5夜\n",
       "6    杭州  西安   8683.0   500    杭州-西安4天4夜"
      ]
     },
     "execution_count": 370,
     "metadata": {},
     "output_type": "execute_result"
    }
   ],
   "source": [
    "df"
   ]
  },
  {
   "cell_type": "code",
   "execution_count": 371,
   "id": "91a74027",
   "metadata": {},
   "outputs": [],
   "source": [
    "df[\"几天几夜\"] = df.路线名.str.extract(\"(\\d天\\d夜)\",expand=False)"
   ]
  },
  {
   "cell_type": "code",
   "execution_count": 372,
   "id": "16f9e21f",
   "metadata": {},
   "outputs": [
    {
     "data": {
      "text/plain": [
       "0     NaN\n",
       "1    2天2夜\n",
       "2     NaN\n",
       "3     NaN\n",
       "4    4天3夜\n",
       "5    6天5夜\n",
       "6    4天4夜\n",
       "Name: 几天几夜, dtype: object"
      ]
     },
     "execution_count": 372,
     "metadata": {},
     "output_type": "execute_result"
    }
   ],
   "source": [
    "df[\"几天几夜\"] "
   ]
  },
  {
   "cell_type": "code",
   "execution_count": 374,
   "id": "abf13ff4",
   "metadata": {},
   "outputs": [
    {
     "data": {
      "text/html": [
       "<div>\n",
       "<style scoped>\n",
       "    .dataframe tbody tr th:only-of-type {\n",
       "        vertical-align: middle;\n",
       "    }\n",
       "\n",
       "    .dataframe tbody tr th {\n",
       "        vertical-align: top;\n",
       "    }\n",
       "\n",
       "    .dataframe thead th {\n",
       "        text-align: right;\n",
       "    }\n",
       "</style>\n",
       "<table border=\"1\" class=\"dataframe\">\n",
       "  <thead>\n",
       "    <tr style=\"text-align: right;\">\n",
       "      <th></th>\n",
       "      <th>出发地</th>\n",
       "      <th>目的地</th>\n",
       "      <th>价格</th>\n",
       "      <th>节省</th>\n",
       "      <th>路线名</th>\n",
       "      <th>几天几夜</th>\n",
       "    </tr>\n",
       "  </thead>\n",
       "  <tbody>\n",
       "    <tr>\n",
       "      <th>0</th>\n",
       "      <td>上海</td>\n",
       "      <td>纽约</td>\n",
       "      <td>47000.0</td>\n",
       "      <td>500</td>\n",
       "      <td>大连-烟台3天2晚</td>\n",
       "      <td>NaN</td>\n",
       "    </tr>\n",
       "    <tr>\n",
       "      <th>1</th>\n",
       "      <td>北京</td>\n",
       "      <td>天津</td>\n",
       "      <td>300.0</td>\n",
       "      <td>7000</td>\n",
       "      <td>北京-秦皇岛2天2夜</td>\n",
       "      <td>2天2夜</td>\n",
       "    </tr>\n",
       "    <tr>\n",
       "      <th>2</th>\n",
       "      <td>沈阳</td>\n",
       "      <td>青岛</td>\n",
       "      <td>1200.0</td>\n",
       "      <td>200</td>\n",
       "      <td>沈阳-青岛3天3晚</td>\n",
       "      <td>NaN</td>\n",
       "    </tr>\n",
       "    <tr>\n",
       "      <th>3</th>\n",
       "      <td>乌鲁木齐</td>\n",
       "      <td>拉萨</td>\n",
       "      <td>500.0</td>\n",
       "      <td>1200</td>\n",
       "      <td>乌鲁木齐-拉萨2天1晚</td>\n",
       "      <td>NaN</td>\n",
       "    </tr>\n",
       "    <tr>\n",
       "      <th>4</th>\n",
       "      <td>江苏</td>\n",
       "      <td>四川</td>\n",
       "      <td>1500.0</td>\n",
       "      <td>200</td>\n",
       "      <td>江苏-四川4天3夜</td>\n",
       "      <td>4天3夜</td>\n",
       "    </tr>\n",
       "    <tr>\n",
       "      <th>5</th>\n",
       "      <td>南京</td>\n",
       "      <td>广州</td>\n",
       "      <td>1600.0</td>\n",
       "      <td>9000</td>\n",
       "      <td>南京-广州6天5夜</td>\n",
       "      <td>6天5夜</td>\n",
       "    </tr>\n",
       "    <tr>\n",
       "      <th>6</th>\n",
       "      <td>杭州</td>\n",
       "      <td>西安</td>\n",
       "      <td>8683.0</td>\n",
       "      <td>500</td>\n",
       "      <td>杭州-西安4天4夜</td>\n",
       "      <td>4天4夜</td>\n",
       "    </tr>\n",
       "  </tbody>\n",
       "</table>\n",
       "</div>"
      ],
      "text/plain": [
       "    出发地 目的地       价格    节省          路线名  几天几夜\n",
       "0    上海  纽约  47000.0   500    大连-烟台3天2晚   NaN\n",
       "1    北京  天津    300.0  7000   北京-秦皇岛2天2夜  2天2夜\n",
       "2    沈阳  青岛   1200.0   200    沈阳-青岛3天3晚   NaN\n",
       "3  乌鲁木齐  拉萨    500.0  1200  乌鲁木齐-拉萨2天1晚   NaN\n",
       "4    江苏  四川   1500.0   200    江苏-四川4天3夜  4天3夜\n",
       "5    南京  广州   1600.0  9000    南京-广州6天5夜  6天5夜\n",
       "6    杭州  西安   8683.0   500    杭州-西安4天4夜  4天4夜"
      ]
     },
     "execution_count": 374,
     "metadata": {},
     "output_type": "execute_result"
    }
   ],
   "source": [
    "df"
   ]
  },
  {
   "cell_type": "code",
   "execution_count": 375,
   "id": "414c741b",
   "metadata": {},
   "outputs": [],
   "source": [
    "df.to_csv(\"tr2.csv\")"
   ]
  },
  {
   "cell_type": "code",
   "execution_count": null,
   "id": "14dd4528",
   "metadata": {},
   "outputs": [],
   "source": []
  }
 ],
 "metadata": {
  "kernelspec": {
   "display_name": "Python 3",
   "language": "python",
   "name": "python3"
  },
  "language_info": {
   "codemirror_mode": {
    "name": "ipython",
    "version": 3
   },
   "file_extension": ".py",
   "mimetype": "text/x-python",
   "name": "python",
   "nbconvert_exporter": "python",
   "pygments_lexer": "ipython3",
   "version": "3.9.1"
  },
  "pycharm": {
   "stem_cell": {
    "cell_type": "raw",
    "metadata": {
     "collapsed": false
    },
    "source": []
   }
  }
 },
 "nbformat": 4,
 "nbformat_minor": 5
}
